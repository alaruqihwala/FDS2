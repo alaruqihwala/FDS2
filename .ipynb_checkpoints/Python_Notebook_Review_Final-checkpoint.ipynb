{
 "cells": [
  {
   "cell_type": "code",
   "execution_count": null,
   "id": "c411bc19",
   "metadata": {},
   "outputs": [],
   "source": [
    "name = input(\"What's your name?\")\n",
    "print(\"Hi \"+ name + \"!\")"
   ]
  },
  {
   "cell_type": "markdown",
   "id": "ee431c17",
   "metadata": {},
   "source": [
    "# Here's a header \n",
    "Here's some text with a word in **bold**\n",
    "\n",
    "## Here's a sub-header \n",
    "\n",
    "*Here's some italic text.*\n",
    "\n",
    "And here \n",
    "\n",
    "* is \n",
    "* a \n",
    "* bullet \n",
    "* list\n",
    "\n",
    "~~Here is me editing~~"
   ]
  },
  {
   "cell_type": "code",
   "execution_count": null,
   "id": "bdc83dcd",
   "metadata": {},
   "outputs": [],
   "source": []
  }
 ],
 "metadata": {
  "kernelspec": {
   "display_name": "Python 3 (ipykernel)",
   "language": "python",
   "name": "python3"
  },
  "language_info": {
   "codemirror_mode": {
    "name": "ipython",
    "version": 3
   },
   "file_extension": ".py",
   "mimetype": "text/x-python",
   "name": "python",
   "nbconvert_exporter": "python",
   "pygments_lexer": "ipython3",
   "version": "3.11.5"
  }
 },
 "nbformat": 4,
 "nbformat_minor": 5
}
