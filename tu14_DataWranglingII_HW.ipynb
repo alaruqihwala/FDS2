{
 "cells": [
  {
   "cell_type": "markdown",
   "id": "a8e66ad5-efe8-4095-89b9-4a3c44a915b1",
   "metadata": {},
   "source": [
    "# Data Wrangling Homework"
   ]
  },
  {
   "cell_type": "markdown",
   "id": "a68b6cdf-cc08-451c-b93b-6f3aeea27dc3",
   "metadata": {},
   "source": [
    "In the spirit of warming up for final projects, this weeks homework will be somewhat open-ended. Actually, it will more like closed-ended and open-middled...\n",
    "\n",
    "Different doctors with different backgrounds, trained in different places, etc., might behave differently. In other words, one doctor might have various biases relative to another. We hope not, at least in critical situations, but doctors are people too.\n",
    "\n",
    "Your job is to determine whether the 4 doctors in our data set are behaving essentially the same with respect to measuring clump thickness, bland chromatin, and diagnosis of tumor type, or whether any one of them seems to be different. "
   ]
  },
  {
   "cell_type": "markdown",
   "id": "090694da-100c-419a-8c00-3e0fbb5767fd",
   "metadata": {
    "tags": []
   },
   "source": [
    "The submission should be a pdf that makes your case as though to a boss/hospital administrator; it should make the case in enough detail to be convincing, but not in such detail that your boss will hate you. For example, one doctor-to-doctor comparison can be described in some detail, but the rest can be summarized with \"Similar comparisons were made for ...\""
   ]
  },
  {
   "cell_type": "markdown",
   "id": "011d2f30-1731-4503-855f-46218d71ae33",
   "metadata": {},
   "source": [
    "Your final conclusion should be whether 1) everything seems okay with respect to the doctors or 2) if there are any red flags that might warrent further scrutiny."
   ]
  },
  {
   "cell_type": "markdown",
   "id": "3e575de6-2ef9-48c1-b8eb-fec7755c5e3d",
   "metadata": {},
   "source": [
    "Do the analysis with an open mind. It's not good to enter an analysis with a pre-conceived notion of what you may or may not find."
   ]
  },
  {
   "cell_type": "code",
   "execution_count": 1,
   "id": "e5389305-4d48-4e2b-9743-1897c68f76be",
   "metadata": {},
   "outputs": [],
   "source": [
    "import pandas as pd # importing the library."
   ]
  },
  {
   "cell_type": "code",
   "execution_count": 2,
   "id": "c05a2dc6-11c3-4769-95a2-b1f187060f60",
   "metadata": {
    "tags": []
   },
   "outputs": [
    {
     "data": {
      "text/html": [
       "<div>\n",
       "<style scoped>\n",
       "    .dataframe tbody tr th:only-of-type {\n",
       "        vertical-align: middle;\n",
       "    }\n",
       "\n",
       "    .dataframe tbody tr th {\n",
       "        vertical-align: top;\n",
       "    }\n",
       "\n",
       "    .dataframe thead th {\n",
       "        text-align: right;\n",
       "    }\n",
       "</style>\n",
       "<table border=\"1\" class=\"dataframe\">\n",
       "  <thead>\n",
       "    <tr style=\"text-align: right;\">\n",
       "      <th></th>\n",
       "      <th>patient_id</th>\n",
       "      <th>clump_thickness</th>\n",
       "      <th>cell_size_uniformity</th>\n",
       "      <th>cell_shape_uniformity</th>\n",
       "      <th>marginal_adhesion</th>\n",
       "      <th>single_ep_cell_size</th>\n",
       "      <th>bare_nuclei</th>\n",
       "      <th>bland_chromatin</th>\n",
       "      <th>normal_nucleoli</th>\n",
       "      <th>mitoses</th>\n",
       "      <th>class</th>\n",
       "      <th>doctor_name</th>\n",
       "    </tr>\n",
       "  </thead>\n",
       "  <tbody>\n",
       "    <tr>\n",
       "      <th>0</th>\n",
       "      <td>1000025</td>\n",
       "      <td>5.0</td>\n",
       "      <td>1.0</td>\n",
       "      <td>1</td>\n",
       "      <td>1</td>\n",
       "      <td>2</td>\n",
       "      <td>1</td>\n",
       "      <td>3.0</td>\n",
       "      <td>1.0</td>\n",
       "      <td>1</td>\n",
       "      <td>benign</td>\n",
       "      <td>Dr. Doe</td>\n",
       "    </tr>\n",
       "    <tr>\n",
       "      <th>1</th>\n",
       "      <td>1002945</td>\n",
       "      <td>5.0</td>\n",
       "      <td>4.0</td>\n",
       "      <td>4</td>\n",
       "      <td>5</td>\n",
       "      <td>7</td>\n",
       "      <td>10</td>\n",
       "      <td>3.0</td>\n",
       "      <td>2.0</td>\n",
       "      <td>1</td>\n",
       "      <td>benign</td>\n",
       "      <td>Dr. Smith</td>\n",
       "    </tr>\n",
       "    <tr>\n",
       "      <th>2</th>\n",
       "      <td>1015425</td>\n",
       "      <td>3.0</td>\n",
       "      <td>1.0</td>\n",
       "      <td>1</td>\n",
       "      <td>1</td>\n",
       "      <td>2</td>\n",
       "      <td>2</td>\n",
       "      <td>3.0</td>\n",
       "      <td>1.0</td>\n",
       "      <td>1</td>\n",
       "      <td>benign</td>\n",
       "      <td>Dr. Lee</td>\n",
       "    </tr>\n",
       "    <tr>\n",
       "      <th>3</th>\n",
       "      <td>1016277</td>\n",
       "      <td>6.0</td>\n",
       "      <td>8.0</td>\n",
       "      <td>8</td>\n",
       "      <td>1</td>\n",
       "      <td>3</td>\n",
       "      <td>4</td>\n",
       "      <td>3.0</td>\n",
       "      <td>7.0</td>\n",
       "      <td>1</td>\n",
       "      <td>benign</td>\n",
       "      <td>Dr. Smith</td>\n",
       "    </tr>\n",
       "    <tr>\n",
       "      <th>4</th>\n",
       "      <td>1017023</td>\n",
       "      <td>4.0</td>\n",
       "      <td>1.0</td>\n",
       "      <td>1</td>\n",
       "      <td>3</td>\n",
       "      <td>2</td>\n",
       "      <td>1</td>\n",
       "      <td>3.0</td>\n",
       "      <td>1.0</td>\n",
       "      <td>1</td>\n",
       "      <td>benign</td>\n",
       "      <td>Dr. Wong</td>\n",
       "    </tr>\n",
       "    <tr>\n",
       "      <th>...</th>\n",
       "      <td>...</td>\n",
       "      <td>...</td>\n",
       "      <td>...</td>\n",
       "      <td>...</td>\n",
       "      <td>...</td>\n",
       "      <td>...</td>\n",
       "      <td>...</td>\n",
       "      <td>...</td>\n",
       "      <td>...</td>\n",
       "      <td>...</td>\n",
       "      <td>...</td>\n",
       "      <td>...</td>\n",
       "    </tr>\n",
       "    <tr>\n",
       "      <th>694</th>\n",
       "      <td>776715</td>\n",
       "      <td>3.0</td>\n",
       "      <td>1.0</td>\n",
       "      <td>1</td>\n",
       "      <td>1</td>\n",
       "      <td>3</td>\n",
       "      <td>2</td>\n",
       "      <td>1.0</td>\n",
       "      <td>1.0</td>\n",
       "      <td>1</td>\n",
       "      <td>benign</td>\n",
       "      <td>Dr. Lee</td>\n",
       "    </tr>\n",
       "    <tr>\n",
       "      <th>695</th>\n",
       "      <td>841769</td>\n",
       "      <td>2.0</td>\n",
       "      <td>1.0</td>\n",
       "      <td>1</td>\n",
       "      <td>1</td>\n",
       "      <td>2</td>\n",
       "      <td>1</td>\n",
       "      <td>1.0</td>\n",
       "      <td>1.0</td>\n",
       "      <td>1</td>\n",
       "      <td>benign</td>\n",
       "      <td>Dr. Smith</td>\n",
       "    </tr>\n",
       "    <tr>\n",
       "      <th>696</th>\n",
       "      <td>888820</td>\n",
       "      <td>5.0</td>\n",
       "      <td>10.0</td>\n",
       "      <td>10</td>\n",
       "      <td>3</td>\n",
       "      <td>7</td>\n",
       "      <td>3</td>\n",
       "      <td>8.0</td>\n",
       "      <td>10.0</td>\n",
       "      <td>2</td>\n",
       "      <td>malignant</td>\n",
       "      <td>Dr. Lee</td>\n",
       "    </tr>\n",
       "    <tr>\n",
       "      <th>697</th>\n",
       "      <td>897471</td>\n",
       "      <td>4.0</td>\n",
       "      <td>8.0</td>\n",
       "      <td>6</td>\n",
       "      <td>4</td>\n",
       "      <td>3</td>\n",
       "      <td>4</td>\n",
       "      <td>10.0</td>\n",
       "      <td>6.0</td>\n",
       "      <td>1</td>\n",
       "      <td>malignant</td>\n",
       "      <td>Dr. Lee</td>\n",
       "    </tr>\n",
       "    <tr>\n",
       "      <th>698</th>\n",
       "      <td>897471</td>\n",
       "      <td>4.0</td>\n",
       "      <td>8.0</td>\n",
       "      <td>8</td>\n",
       "      <td>5</td>\n",
       "      <td>4</td>\n",
       "      <td>5</td>\n",
       "      <td>10.0</td>\n",
       "      <td>4.0</td>\n",
       "      <td>1</td>\n",
       "      <td>malignant</td>\n",
       "      <td>Dr. Wong</td>\n",
       "    </tr>\n",
       "  </tbody>\n",
       "</table>\n",
       "<p>699 rows × 12 columns</p>\n",
       "</div>"
      ],
      "text/plain": [
       "     patient_id  clump_thickness  cell_size_uniformity  cell_shape_uniformity  \\\n",
       "0       1000025              5.0                   1.0                      1   \n",
       "1       1002945              5.0                   4.0                      4   \n",
       "2       1015425              3.0                   1.0                      1   \n",
       "3       1016277              6.0                   8.0                      8   \n",
       "4       1017023              4.0                   1.0                      1   \n",
       "..          ...              ...                   ...                    ...   \n",
       "694      776715              3.0                   1.0                      1   \n",
       "695      841769              2.0                   1.0                      1   \n",
       "696      888820              5.0                  10.0                     10   \n",
       "697      897471              4.0                   8.0                      6   \n",
       "698      897471              4.0                   8.0                      8   \n",
       "\n",
       "     marginal_adhesion  single_ep_cell_size bare_nuclei  bland_chromatin  \\\n",
       "0                    1                    2           1              3.0   \n",
       "1                    5                    7          10              3.0   \n",
       "2                    1                    2           2              3.0   \n",
       "3                    1                    3           4              3.0   \n",
       "4                    3                    2           1              3.0   \n",
       "..                 ...                  ...         ...              ...   \n",
       "694                  1                    3           2              1.0   \n",
       "695                  1                    2           1              1.0   \n",
       "696                  3                    7           3              8.0   \n",
       "697                  4                    3           4             10.0   \n",
       "698                  5                    4           5             10.0   \n",
       "\n",
       "     normal_nucleoli  mitoses      class doctor_name  \n",
       "0                1.0        1     benign     Dr. Doe  \n",
       "1                2.0        1     benign   Dr. Smith  \n",
       "2                1.0        1     benign     Dr. Lee  \n",
       "3                7.0        1     benign   Dr. Smith  \n",
       "4                1.0        1     benign    Dr. Wong  \n",
       "..               ...      ...        ...         ...  \n",
       "694              1.0        1     benign     Dr. Lee  \n",
       "695              1.0        1     benign   Dr. Smith  \n",
       "696             10.0        2  malignant     Dr. Lee  \n",
       "697              6.0        1  malignant     Dr. Lee  \n",
       "698              4.0        1  malignant    Dr. Wong  \n",
       "\n",
       "[699 rows x 12 columns]"
      ]
     },
     "execution_count": 2,
     "metadata": {},
     "output_type": "execute_result"
    }
   ],
   "source": [
    "bcd = pd.read_csv('./data/breast_cancer_data.csv') # . for current directory that were in.\n",
    "bcd"
   ]
  },
  {
   "cell_type": "code",
   "execution_count": 142,
   "id": "feb2c694-32e3-47ec-85b7-168d3fefdb49",
   "metadata": {
    "tags": []
   },
   "outputs": [
    {
     "data": {
      "text/html": [
       "<div>\n",
       "<style scoped>\n",
       "    .dataframe tbody tr th:only-of-type {\n",
       "        vertical-align: middle;\n",
       "    }\n",
       "\n",
       "    .dataframe tbody tr th {\n",
       "        vertical-align: top;\n",
       "    }\n",
       "\n",
       "    .dataframe thead th {\n",
       "        text-align: right;\n",
       "    }\n",
       "</style>\n",
       "<table border=\"1\" class=\"dataframe\">\n",
       "  <thead>\n",
       "    <tr style=\"text-align: right;\">\n",
       "      <th></th>\n",
       "      <th>patient_id</th>\n",
       "      <th>clump_thickness</th>\n",
       "      <th>cell_size_uniformity</th>\n",
       "      <th>cell_shape_uniformity</th>\n",
       "      <th>marginal_adhesion</th>\n",
       "      <th>single_ep_cell_size</th>\n",
       "      <th>bland_chromatin</th>\n",
       "      <th>normal_nucleoli</th>\n",
       "      <th>mitoses</th>\n",
       "      <th>class</th>\n",
       "      <th>doctor_name</th>\n",
       "    </tr>\n",
       "  </thead>\n",
       "  <tbody>\n",
       "    <tr>\n",
       "      <th>0</th>\n",
       "      <td>1000025</td>\n",
       "      <td>5.0</td>\n",
       "      <td>1.0</td>\n",
       "      <td>1</td>\n",
       "      <td>1</td>\n",
       "      <td>2</td>\n",
       "      <td>3.0</td>\n",
       "      <td>1.0</td>\n",
       "      <td>1</td>\n",
       "      <td>benign</td>\n",
       "      <td>Doe</td>\n",
       "    </tr>\n",
       "    <tr>\n",
       "      <th>1</th>\n",
       "      <td>1002945</td>\n",
       "      <td>5.0</td>\n",
       "      <td>4.0</td>\n",
       "      <td>4</td>\n",
       "      <td>5</td>\n",
       "      <td>7</td>\n",
       "      <td>3.0</td>\n",
       "      <td>2.0</td>\n",
       "      <td>1</td>\n",
       "      <td>benign</td>\n",
       "      <td>Smith</td>\n",
       "    </tr>\n",
       "    <tr>\n",
       "      <th>2</th>\n",
       "      <td>1015425</td>\n",
       "      <td>3.0</td>\n",
       "      <td>1.0</td>\n",
       "      <td>1</td>\n",
       "      <td>1</td>\n",
       "      <td>2</td>\n",
       "      <td>3.0</td>\n",
       "      <td>1.0</td>\n",
       "      <td>1</td>\n",
       "      <td>benign</td>\n",
       "      <td>Lee</td>\n",
       "    </tr>\n",
       "    <tr>\n",
       "      <th>3</th>\n",
       "      <td>1016277</td>\n",
       "      <td>6.0</td>\n",
       "      <td>8.0</td>\n",
       "      <td>8</td>\n",
       "      <td>1</td>\n",
       "      <td>3</td>\n",
       "      <td>3.0</td>\n",
       "      <td>7.0</td>\n",
       "      <td>1</td>\n",
       "      <td>benign</td>\n",
       "      <td>Smith</td>\n",
       "    </tr>\n",
       "    <tr>\n",
       "      <th>4</th>\n",
       "      <td>1017023</td>\n",
       "      <td>4.0</td>\n",
       "      <td>1.0</td>\n",
       "      <td>1</td>\n",
       "      <td>3</td>\n",
       "      <td>2</td>\n",
       "      <td>3.0</td>\n",
       "      <td>1.0</td>\n",
       "      <td>1</td>\n",
       "      <td>benign</td>\n",
       "      <td>Wong</td>\n",
       "    </tr>\n",
       "    <tr>\n",
       "      <th>5</th>\n",
       "      <td>1017122</td>\n",
       "      <td>8.0</td>\n",
       "      <td>10.0</td>\n",
       "      <td>10</td>\n",
       "      <td>8</td>\n",
       "      <td>7</td>\n",
       "      <td>9.0</td>\n",
       "      <td>7.0</td>\n",
       "      <td>1</td>\n",
       "      <td>malignant</td>\n",
       "      <td>Smith</td>\n",
       "    </tr>\n",
       "    <tr>\n",
       "      <th>7</th>\n",
       "      <td>1018561</td>\n",
       "      <td>2.0</td>\n",
       "      <td>1.0</td>\n",
       "      <td>2</td>\n",
       "      <td>1</td>\n",
       "      <td>2</td>\n",
       "      <td>3.0</td>\n",
       "      <td>1.0</td>\n",
       "      <td>1</td>\n",
       "      <td>benign</td>\n",
       "      <td>Smith</td>\n",
       "    </tr>\n",
       "    <tr>\n",
       "      <th>8</th>\n",
       "      <td>1033078</td>\n",
       "      <td>2.0</td>\n",
       "      <td>1.0</td>\n",
       "      <td>1</td>\n",
       "      <td>1</td>\n",
       "      <td>2</td>\n",
       "      <td>1.0</td>\n",
       "      <td>1.0</td>\n",
       "      <td>5</td>\n",
       "      <td>benign</td>\n",
       "      <td>Smith</td>\n",
       "    </tr>\n",
       "    <tr>\n",
       "      <th>9</th>\n",
       "      <td>1033078</td>\n",
       "      <td>4.0</td>\n",
       "      <td>2.0</td>\n",
       "      <td>1</td>\n",
       "      <td>1</td>\n",
       "      <td>2</td>\n",
       "      <td>2.0</td>\n",
       "      <td>1.0</td>\n",
       "      <td>1</td>\n",
       "      <td>benign</td>\n",
       "      <td>Doe</td>\n",
       "    </tr>\n",
       "    <tr>\n",
       "      <th>10</th>\n",
       "      <td>1035283</td>\n",
       "      <td>1.0</td>\n",
       "      <td>1.0</td>\n",
       "      <td>1</td>\n",
       "      <td>1</td>\n",
       "      <td>1</td>\n",
       "      <td>3.0</td>\n",
       "      <td>1.0</td>\n",
       "      <td>1</td>\n",
       "      <td>benign</td>\n",
       "      <td>Doe</td>\n",
       "    </tr>\n",
       "    <tr>\n",
       "      <th>11</th>\n",
       "      <td>1036172</td>\n",
       "      <td>2.0</td>\n",
       "      <td>1.0</td>\n",
       "      <td>1</td>\n",
       "      <td>1</td>\n",
       "      <td>2</td>\n",
       "      <td>2.0</td>\n",
       "      <td>1.0</td>\n",
       "      <td>1</td>\n",
       "      <td>benign</td>\n",
       "      <td>Smith</td>\n",
       "    </tr>\n",
       "    <tr>\n",
       "      <th>13</th>\n",
       "      <td>1043999</td>\n",
       "      <td>1.0</td>\n",
       "      <td>1.0</td>\n",
       "      <td>1</td>\n",
       "      <td>1</td>\n",
       "      <td>2</td>\n",
       "      <td>3.0</td>\n",
       "      <td>1.0</td>\n",
       "      <td>1</td>\n",
       "      <td>benign</td>\n",
       "      <td>Wong</td>\n",
       "    </tr>\n",
       "    <tr>\n",
       "      <th>14</th>\n",
       "      <td>1044572</td>\n",
       "      <td>8.0</td>\n",
       "      <td>7.0</td>\n",
       "      <td>5</td>\n",
       "      <td>1</td>\n",
       "      <td>7</td>\n",
       "      <td>5.0</td>\n",
       "      <td>5.0</td>\n",
       "      <td>4</td>\n",
       "      <td>malignant</td>\n",
       "      <td>Doe</td>\n",
       "    </tr>\n",
       "    <tr>\n",
       "      <th>15</th>\n",
       "      <td>1047630</td>\n",
       "      <td>7.0</td>\n",
       "      <td>4.0</td>\n",
       "      <td>6</td>\n",
       "      <td>4</td>\n",
       "      <td>6</td>\n",
       "      <td>4.0</td>\n",
       "      <td>3.0</td>\n",
       "      <td>1</td>\n",
       "      <td>malignant</td>\n",
       "      <td>Lee</td>\n",
       "    </tr>\n",
       "    <tr>\n",
       "      <th>16</th>\n",
       "      <td>1048672</td>\n",
       "      <td>4.0</td>\n",
       "      <td>1.0</td>\n",
       "      <td>1</td>\n",
       "      <td>1</td>\n",
       "      <td>2</td>\n",
       "      <td>2.0</td>\n",
       "      <td>1.0</td>\n",
       "      <td>1</td>\n",
       "      <td>benign</td>\n",
       "      <td>Lee</td>\n",
       "    </tr>\n",
       "    <tr>\n",
       "      <th>17</th>\n",
       "      <td>1049815</td>\n",
       "      <td>4.0</td>\n",
       "      <td>1.0</td>\n",
       "      <td>1</td>\n",
       "      <td>1</td>\n",
       "      <td>2</td>\n",
       "      <td>3.0</td>\n",
       "      <td>1.0</td>\n",
       "      <td>1</td>\n",
       "      <td>benign</td>\n",
       "      <td>Smith</td>\n",
       "    </tr>\n",
       "    <tr>\n",
       "      <th>18</th>\n",
       "      <td>1050670</td>\n",
       "      <td>10.0</td>\n",
       "      <td>7.0</td>\n",
       "      <td>7</td>\n",
       "      <td>6</td>\n",
       "      <td>4</td>\n",
       "      <td>4.0</td>\n",
       "      <td>1.0</td>\n",
       "      <td>2</td>\n",
       "      <td>malignant</td>\n",
       "      <td>Smith</td>\n",
       "    </tr>\n",
       "    <tr>\n",
       "      <th>19</th>\n",
       "      <td>1050718</td>\n",
       "      <td>6.0</td>\n",
       "      <td>1.0</td>\n",
       "      <td>1</td>\n",
       "      <td>1</td>\n",
       "      <td>2</td>\n",
       "      <td>3.0</td>\n",
       "      <td>1.0</td>\n",
       "      <td>1</td>\n",
       "      <td>benign</td>\n",
       "      <td>Wong</td>\n",
       "    </tr>\n",
       "    <tr>\n",
       "      <th>20</th>\n",
       "      <td>1054590</td>\n",
       "      <td>7.0</td>\n",
       "      <td>3.0</td>\n",
       "      <td>2</td>\n",
       "      <td>10</td>\n",
       "      <td>5</td>\n",
       "      <td>5.0</td>\n",
       "      <td>4.0</td>\n",
       "      <td>4</td>\n",
       "      <td>malignant</td>\n",
       "      <td>Doe</td>\n",
       "    </tr>\n",
       "  </tbody>\n",
       "</table>\n",
       "</div>"
      ],
      "text/plain": [
       "   patient_id  clump_thickness  cell_size_uniformity  cell_shape_uniformity  \\\n",
       "0     1000025              5.0                   1.0                      1   \n",
       "1     1002945              5.0                   4.0                      4   \n",
       "2     1015425              3.0                   1.0                      1   \n",
       "3     1016277              6.0                   8.0                      8   \n",
       "4     1017023              4.0                   1.0                      1   \n",
       "5     1017122              8.0                  10.0                     10   \n",
       "7     1018561              2.0                   1.0                      2   \n",
       "8     1033078              2.0                   1.0                      1   \n",
       "9     1033078              4.0                   2.0                      1   \n",
       "10    1035283              1.0                   1.0                      1   \n",
       "11    1036172              2.0                   1.0                      1   \n",
       "13    1043999              1.0                   1.0                      1   \n",
       "14    1044572              8.0                   7.0                      5   \n",
       "15    1047630              7.0                   4.0                      6   \n",
       "16    1048672              4.0                   1.0                      1   \n",
       "17    1049815              4.0                   1.0                      1   \n",
       "18    1050670             10.0                   7.0                      7   \n",
       "19    1050718              6.0                   1.0                      1   \n",
       "20    1054590              7.0                   3.0                      2   \n",
       "\n",
       "    marginal_adhesion  single_ep_cell_size  bland_chromatin  normal_nucleoli  \\\n",
       "0                   1                    2              3.0              1.0   \n",
       "1                   5                    7              3.0              2.0   \n",
       "2                   1                    2              3.0              1.0   \n",
       "3                   1                    3              3.0              7.0   \n",
       "4                   3                    2              3.0              1.0   \n",
       "5                   8                    7              9.0              7.0   \n",
       "7                   1                    2              3.0              1.0   \n",
       "8                   1                    2              1.0              1.0   \n",
       "9                   1                    2              2.0              1.0   \n",
       "10                  1                    1              3.0              1.0   \n",
       "11                  1                    2              2.0              1.0   \n",
       "13                  1                    2              3.0              1.0   \n",
       "14                  1                    7              5.0              5.0   \n",
       "15                  4                    6              4.0              3.0   \n",
       "16                  1                    2              2.0              1.0   \n",
       "17                  1                    2              3.0              1.0   \n",
       "18                  6                    4              4.0              1.0   \n",
       "19                  1                    2              3.0              1.0   \n",
       "20                 10                    5              5.0              4.0   \n",
       "\n",
       "    mitoses      class doctor_name  \n",
       "0         1     benign         Doe  \n",
       "1         1     benign       Smith  \n",
       "2         1     benign         Lee  \n",
       "3         1     benign       Smith  \n",
       "4         1     benign        Wong  \n",
       "5         1  malignant       Smith  \n",
       "7         1     benign       Smith  \n",
       "8         5     benign       Smith  \n",
       "9         1     benign         Doe  \n",
       "10        1     benign         Doe  \n",
       "11        1     benign       Smith  \n",
       "13        1     benign        Wong  \n",
       "14        4  malignant         Doe  \n",
       "15        1  malignant         Lee  \n",
       "16        1     benign         Lee  \n",
       "17        1     benign       Smith  \n",
       "18        2  malignant       Smith  \n",
       "19        1     benign        Wong  \n",
       "20        4  malignant         Doe  "
      ]
     },
     "execution_count": 142,
     "metadata": {},
     "output_type": "execute_result"
    }
   ],
   "source": [
    "bcd.head(19) # looking at the top 20 of the data. "
   ]
  },
  {
   "cell_type": "code",
   "execution_count": 143,
   "id": "7c752ec4-9abf-4db6-9723-271c9d73ce8b",
   "metadata": {
    "tags": []
   },
   "outputs": [
    {
     "data": {
      "text/html": [
       "<div>\n",
       "<style scoped>\n",
       "    .dataframe tbody tr th:only-of-type {\n",
       "        vertical-align: middle;\n",
       "    }\n",
       "\n",
       "    .dataframe tbody tr th {\n",
       "        vertical-align: top;\n",
       "    }\n",
       "\n",
       "    .dataframe thead th {\n",
       "        text-align: right;\n",
       "    }\n",
       "</style>\n",
       "<table border=\"1\" class=\"dataframe\">\n",
       "  <thead>\n",
       "    <tr style=\"text-align: right;\">\n",
       "      <th></th>\n",
       "      <th>patient_id</th>\n",
       "      <th>clump_thickness</th>\n",
       "      <th>cell_size_uniformity</th>\n",
       "      <th>cell_shape_uniformity</th>\n",
       "      <th>marginal_adhesion</th>\n",
       "      <th>single_ep_cell_size</th>\n",
       "      <th>bland_chromatin</th>\n",
       "      <th>normal_nucleoli</th>\n",
       "      <th>mitoses</th>\n",
       "      <th>class</th>\n",
       "      <th>doctor_name</th>\n",
       "    </tr>\n",
       "  </thead>\n",
       "  <tbody>\n",
       "    <tr>\n",
       "      <th>680</th>\n",
       "      <td>1369821</td>\n",
       "      <td>10.0</td>\n",
       "      <td>10.0</td>\n",
       "      <td>10</td>\n",
       "      <td>10</td>\n",
       "      <td>5</td>\n",
       "      <td>10.0</td>\n",
       "      <td>10.0</td>\n",
       "      <td>7</td>\n",
       "      <td>malignant</td>\n",
       "      <td>Lee</td>\n",
       "    </tr>\n",
       "    <tr>\n",
       "      <th>681</th>\n",
       "      <td>1371026</td>\n",
       "      <td>5.0</td>\n",
       "      <td>10.0</td>\n",
       "      <td>10</td>\n",
       "      <td>10</td>\n",
       "      <td>4</td>\n",
       "      <td>5.0</td>\n",
       "      <td>6.0</td>\n",
       "      <td>3</td>\n",
       "      <td>malignant</td>\n",
       "      <td>Wong</td>\n",
       "    </tr>\n",
       "    <tr>\n",
       "      <th>682</th>\n",
       "      <td>1371920</td>\n",
       "      <td>5.0</td>\n",
       "      <td>1.0</td>\n",
       "      <td>1</td>\n",
       "      <td>1</td>\n",
       "      <td>2</td>\n",
       "      <td>3.0</td>\n",
       "      <td>2.0</td>\n",
       "      <td>1</td>\n",
       "      <td>benign</td>\n",
       "      <td>Wong</td>\n",
       "    </tr>\n",
       "    <tr>\n",
       "      <th>683</th>\n",
       "      <td>466906</td>\n",
       "      <td>1.0</td>\n",
       "      <td>1.0</td>\n",
       "      <td>1</td>\n",
       "      <td>1</td>\n",
       "      <td>2</td>\n",
       "      <td>1.0</td>\n",
       "      <td>1.0</td>\n",
       "      <td>1</td>\n",
       "      <td>benign</td>\n",
       "      <td>Lee</td>\n",
       "    </tr>\n",
       "    <tr>\n",
       "      <th>684</th>\n",
       "      <td>466906</td>\n",
       "      <td>1.0</td>\n",
       "      <td>1.0</td>\n",
       "      <td>1</td>\n",
       "      <td>1</td>\n",
       "      <td>2</td>\n",
       "      <td>1.0</td>\n",
       "      <td>1.0</td>\n",
       "      <td>1</td>\n",
       "      <td>benign</td>\n",
       "      <td>Wong</td>\n",
       "    </tr>\n",
       "    <tr>\n",
       "      <th>685</th>\n",
       "      <td>534555</td>\n",
       "      <td>1.0</td>\n",
       "      <td>1.0</td>\n",
       "      <td>1</td>\n",
       "      <td>1</td>\n",
       "      <td>2</td>\n",
       "      <td>1.0</td>\n",
       "      <td>1.0</td>\n",
       "      <td>1</td>\n",
       "      <td>benign</td>\n",
       "      <td>Doe</td>\n",
       "    </tr>\n",
       "    <tr>\n",
       "      <th>686</th>\n",
       "      <td>536708</td>\n",
       "      <td>1.0</td>\n",
       "      <td>1.0</td>\n",
       "      <td>1</td>\n",
       "      <td>1</td>\n",
       "      <td>2</td>\n",
       "      <td>1.0</td>\n",
       "      <td>1.0</td>\n",
       "      <td>1</td>\n",
       "      <td>benign</td>\n",
       "      <td>Doe</td>\n",
       "    </tr>\n",
       "    <tr>\n",
       "      <th>687</th>\n",
       "      <td>566346</td>\n",
       "      <td>3.0</td>\n",
       "      <td>1.0</td>\n",
       "      <td>1</td>\n",
       "      <td>1</td>\n",
       "      <td>2</td>\n",
       "      <td>2.0</td>\n",
       "      <td>3.0</td>\n",
       "      <td>1</td>\n",
       "      <td>benign</td>\n",
       "      <td>Lee</td>\n",
       "    </tr>\n",
       "    <tr>\n",
       "      <th>688</th>\n",
       "      <td>603148</td>\n",
       "      <td>4.0</td>\n",
       "      <td>1.0</td>\n",
       "      <td>1</td>\n",
       "      <td>1</td>\n",
       "      <td>2</td>\n",
       "      <td>1.0</td>\n",
       "      <td>1.0</td>\n",
       "      <td>1</td>\n",
       "      <td>benign</td>\n",
       "      <td>Smith</td>\n",
       "    </tr>\n",
       "    <tr>\n",
       "      <th>689</th>\n",
       "      <td>654546</td>\n",
       "      <td>1.0</td>\n",
       "      <td>1.0</td>\n",
       "      <td>1</td>\n",
       "      <td>1</td>\n",
       "      <td>2</td>\n",
       "      <td>1.0</td>\n",
       "      <td>1.0</td>\n",
       "      <td>8</td>\n",
       "      <td>benign</td>\n",
       "      <td>Lee</td>\n",
       "    </tr>\n",
       "    <tr>\n",
       "      <th>690</th>\n",
       "      <td>654546</td>\n",
       "      <td>1.0</td>\n",
       "      <td>1.0</td>\n",
       "      <td>1</td>\n",
       "      <td>3</td>\n",
       "      <td>2</td>\n",
       "      <td>1.0</td>\n",
       "      <td>1.0</td>\n",
       "      <td>1</td>\n",
       "      <td>benign</td>\n",
       "      <td>Doe</td>\n",
       "    </tr>\n",
       "    <tr>\n",
       "      <th>691</th>\n",
       "      <td>695091</td>\n",
       "      <td>5.0</td>\n",
       "      <td>10.0</td>\n",
       "      <td>10</td>\n",
       "      <td>5</td>\n",
       "      <td>4</td>\n",
       "      <td>4.0</td>\n",
       "      <td>4.0</td>\n",
       "      <td>1</td>\n",
       "      <td>malignant</td>\n",
       "      <td>Wong</td>\n",
       "    </tr>\n",
       "    <tr>\n",
       "      <th>692</th>\n",
       "      <td>714039</td>\n",
       "      <td>3.0</td>\n",
       "      <td>1.0</td>\n",
       "      <td>1</td>\n",
       "      <td>1</td>\n",
       "      <td>2</td>\n",
       "      <td>1.0</td>\n",
       "      <td>1.0</td>\n",
       "      <td>1</td>\n",
       "      <td>benign</td>\n",
       "      <td>Wong</td>\n",
       "    </tr>\n",
       "    <tr>\n",
       "      <th>693</th>\n",
       "      <td>763235</td>\n",
       "      <td>3.0</td>\n",
       "      <td>1.0</td>\n",
       "      <td>1</td>\n",
       "      <td>1</td>\n",
       "      <td>2</td>\n",
       "      <td>2.0</td>\n",
       "      <td>1.0</td>\n",
       "      <td>2</td>\n",
       "      <td>benign</td>\n",
       "      <td>Lee</td>\n",
       "    </tr>\n",
       "    <tr>\n",
       "      <th>694</th>\n",
       "      <td>776715</td>\n",
       "      <td>3.0</td>\n",
       "      <td>1.0</td>\n",
       "      <td>1</td>\n",
       "      <td>1</td>\n",
       "      <td>3</td>\n",
       "      <td>1.0</td>\n",
       "      <td>1.0</td>\n",
       "      <td>1</td>\n",
       "      <td>benign</td>\n",
       "      <td>Lee</td>\n",
       "    </tr>\n",
       "    <tr>\n",
       "      <th>695</th>\n",
       "      <td>841769</td>\n",
       "      <td>2.0</td>\n",
       "      <td>1.0</td>\n",
       "      <td>1</td>\n",
       "      <td>1</td>\n",
       "      <td>2</td>\n",
       "      <td>1.0</td>\n",
       "      <td>1.0</td>\n",
       "      <td>1</td>\n",
       "      <td>benign</td>\n",
       "      <td>Smith</td>\n",
       "    </tr>\n",
       "    <tr>\n",
       "      <th>696</th>\n",
       "      <td>888820</td>\n",
       "      <td>5.0</td>\n",
       "      <td>10.0</td>\n",
       "      <td>10</td>\n",
       "      <td>3</td>\n",
       "      <td>7</td>\n",
       "      <td>8.0</td>\n",
       "      <td>10.0</td>\n",
       "      <td>2</td>\n",
       "      <td>malignant</td>\n",
       "      <td>Lee</td>\n",
       "    </tr>\n",
       "    <tr>\n",
       "      <th>697</th>\n",
       "      <td>897471</td>\n",
       "      <td>4.0</td>\n",
       "      <td>8.0</td>\n",
       "      <td>6</td>\n",
       "      <td>4</td>\n",
       "      <td>3</td>\n",
       "      <td>10.0</td>\n",
       "      <td>6.0</td>\n",
       "      <td>1</td>\n",
       "      <td>malignant</td>\n",
       "      <td>Lee</td>\n",
       "    </tr>\n",
       "    <tr>\n",
       "      <th>698</th>\n",
       "      <td>897471</td>\n",
       "      <td>4.0</td>\n",
       "      <td>8.0</td>\n",
       "      <td>8</td>\n",
       "      <td>5</td>\n",
       "      <td>4</td>\n",
       "      <td>10.0</td>\n",
       "      <td>4.0</td>\n",
       "      <td>1</td>\n",
       "      <td>malignant</td>\n",
       "      <td>Wong</td>\n",
       "    </tr>\n",
       "  </tbody>\n",
       "</table>\n",
       "</div>"
      ],
      "text/plain": [
       "    patient_id  clump_thickness  cell_size_uniformity  cell_shape_uniformity  \\\n",
       "680    1369821             10.0                  10.0                     10   \n",
       "681    1371026              5.0                  10.0                     10   \n",
       "682    1371920              5.0                   1.0                      1   \n",
       "683     466906              1.0                   1.0                      1   \n",
       "684     466906              1.0                   1.0                      1   \n",
       "685     534555              1.0                   1.0                      1   \n",
       "686     536708              1.0                   1.0                      1   \n",
       "687     566346              3.0                   1.0                      1   \n",
       "688     603148              4.0                   1.0                      1   \n",
       "689     654546              1.0                   1.0                      1   \n",
       "690     654546              1.0                   1.0                      1   \n",
       "691     695091              5.0                  10.0                     10   \n",
       "692     714039              3.0                   1.0                      1   \n",
       "693     763235              3.0                   1.0                      1   \n",
       "694     776715              3.0                   1.0                      1   \n",
       "695     841769              2.0                   1.0                      1   \n",
       "696     888820              5.0                  10.0                     10   \n",
       "697     897471              4.0                   8.0                      6   \n",
       "698     897471              4.0                   8.0                      8   \n",
       "\n",
       "     marginal_adhesion  single_ep_cell_size  bland_chromatin  normal_nucleoli  \\\n",
       "680                 10                    5             10.0             10.0   \n",
       "681                 10                    4              5.0              6.0   \n",
       "682                  1                    2              3.0              2.0   \n",
       "683                  1                    2              1.0              1.0   \n",
       "684                  1                    2              1.0              1.0   \n",
       "685                  1                    2              1.0              1.0   \n",
       "686                  1                    2              1.0              1.0   \n",
       "687                  1                    2              2.0              3.0   \n",
       "688                  1                    2              1.0              1.0   \n",
       "689                  1                    2              1.0              1.0   \n",
       "690                  3                    2              1.0              1.0   \n",
       "691                  5                    4              4.0              4.0   \n",
       "692                  1                    2              1.0              1.0   \n",
       "693                  1                    2              2.0              1.0   \n",
       "694                  1                    3              1.0              1.0   \n",
       "695                  1                    2              1.0              1.0   \n",
       "696                  3                    7              8.0             10.0   \n",
       "697                  4                    3             10.0              6.0   \n",
       "698                  5                    4             10.0              4.0   \n",
       "\n",
       "     mitoses      class doctor_name  \n",
       "680        7  malignant         Lee  \n",
       "681        3  malignant        Wong  \n",
       "682        1     benign        Wong  \n",
       "683        1     benign         Lee  \n",
       "684        1     benign        Wong  \n",
       "685        1     benign         Doe  \n",
       "686        1     benign         Doe  \n",
       "687        1     benign         Lee  \n",
       "688        1     benign       Smith  \n",
       "689        8     benign         Lee  \n",
       "690        1     benign         Doe  \n",
       "691        1  malignant        Wong  \n",
       "692        1     benign        Wong  \n",
       "693        2     benign         Lee  \n",
       "694        1     benign         Lee  \n",
       "695        1     benign       Smith  \n",
       "696        2  malignant         Lee  \n",
       "697        1  malignant         Lee  \n",
       "698        1  malignant        Wong  "
      ]
     },
     "execution_count": 143,
     "metadata": {},
     "output_type": "execute_result"
    }
   ],
   "source": [
    "bcd.tail(19) # bottom 20 of the data. "
   ]
  },
  {
   "cell_type": "code",
   "execution_count": 3,
   "id": "0675f82c-f56b-4be5-bc95-ef6a2bac3f18",
   "metadata": {
    "tags": []
   },
   "outputs": [
    {
     "data": {
      "text/plain": [
       "(699, 12)"
      ]
     },
     "execution_count": 3,
     "metadata": {},
     "output_type": "execute_result"
    }
   ],
   "source": [
    "bcd.shape # checking the shape of the data. "
   ]
  },
  {
   "cell_type": "code",
   "execution_count": 7,
   "id": "0fe968e9-c4eb-4451-a233-b73753ef529c",
   "metadata": {
    "tags": []
   },
   "outputs": [
    {
     "data": {
      "text/plain": [
       "Index(['patient_id', 'clump_thickness', 'cell_size_uniformity',\n",
       "       'cell_shape_uniformity', 'marginal_adhesion', 'single_ep_cell_size',\n",
       "       'bare_nuclei', 'bland_chromatin', 'normal_nucleoli', 'mitoses', 'class',\n",
       "       'doctor_name'],\n",
       "      dtype='object')"
      ]
     },
     "execution_count": 7,
     "metadata": {},
     "output_type": "execute_result"
    }
   ],
   "source": [
    "bcd.columns # index of the names of the columns in bcd. "
   ]
  },
  {
   "cell_type": "code",
   "execution_count": 10,
   "id": "c39316ba-a27f-4fb3-adfd-e416b4be3dc3",
   "metadata": {
    "tags": []
   },
   "outputs": [],
   "source": [
    "bcd['patient_id'] = bcd['patient_id'].astype('string') # making patient ID a string "
   ]
  },
  {
   "cell_type": "code",
   "execution_count": 11,
   "id": "fd7a03cc-766b-4e52-9d10-5a72e766cace",
   "metadata": {
    "tags": []
   },
   "outputs": [],
   "source": [
    "bcd['bare_nuclei'] = bcd['bare_nuclei'].replace('?', '') # removing the question marks from bare nuclei."
   ]
  },
  {
   "cell_type": "code",
   "execution_count": 13,
   "id": "ae6c8098-c50b-4d62-9d00-c2045bf090c4",
   "metadata": {
    "tags": []
   },
   "outputs": [
    {
     "data": {
      "text/plain": [
       "patient_id               0\n",
       "clump_thickness          1\n",
       "cell_size_uniformity     1\n",
       "cell_shape_uniformity    0\n",
       "marginal_adhesion        0\n",
       "single_ep_cell_size      0\n",
       "bare_nuclei              2\n",
       "bland_chromatin          4\n",
       "normal_nucleoli          1\n",
       "mitoses                  0\n",
       "class                    0\n",
       "doctor_name              0\n",
       "dtype: int64"
      ]
     },
     "execution_count": 13,
     "metadata": {},
     "output_type": "execute_result"
    }
   ],
   "source": [
    "bcd.isna().sum() # finding how many missing in each column."
   ]
  },
  {
   "cell_type": "code",
   "execution_count": 14,
   "id": "53732148-7146-489d-8f6f-9360e59007ac",
   "metadata": {
    "tags": []
   },
   "outputs": [],
   "source": [
    "bcd = bcd.dropna(how = 'all')"
   ]
  },
  {
   "cell_type": "code",
   "execution_count": 15,
   "id": "61e2e774-4a7b-45f8-812a-64464e1a1707",
   "metadata": {
    "tags": []
   },
   "outputs": [],
   "source": [
    "bcd = bcd.dropna(how = 'any')"
   ]
  },
  {
   "cell_type": "code",
   "execution_count": 18,
   "id": "9c3be2e3-c03b-49dc-9804-f2c073895636",
   "metadata": {
    "tags": []
   },
   "outputs": [
    {
     "name": "stdout",
     "output_type": "stream",
     "text": [
      "0        Dr. Doe\n",
      "1      Dr. Smith\n",
      "2        Dr. Lee\n",
      "3      Dr. Smith\n",
      "4       Dr. Wong\n",
      "         ...    \n",
      "694      Dr. Lee\n",
      "695    Dr. Smith\n",
      "696      Dr. Lee\n",
      "697      Dr. Lee\n",
      "698     Dr. Wong\n",
      "Name: doctor_name, Length: 690, dtype: object\n"
     ]
    }
   ],
   "source": [
    "dr_names = bcd['doctor_name']\n",
    "print(dr_names)"
   ]
  },
  {
   "cell_type": "code",
   "execution_count": 19,
   "id": "0b9f0410-791d-4f24-b55b-00647915f477",
   "metadata": {
    "tags": []
   },
   "outputs": [
    {
     "data": {
      "text/plain": [
       "0        [Dr., Doe]\n",
       "1      [Dr., Smith]\n",
       "2        [Dr., Lee]\n",
       "3      [Dr., Smith]\n",
       "4       [Dr., Wong]\n",
       "           ...     \n",
       "694      [Dr., Lee]\n",
       "695    [Dr., Smith]\n",
       "696      [Dr., Lee]\n",
       "697      [Dr., Lee]\n",
       "698     [Dr., Wong]\n",
       "Name: doctor_name, Length: 690, dtype: object"
      ]
     },
     "execution_count": 19,
     "metadata": {},
     "output_type": "execute_result"
    }
   ],
   "source": [
    "split_dr_names = dr_names.str.split() \n",
    "split_dr_names"
   ]
  },
  {
   "cell_type": "code",
   "execution_count": 20,
   "id": "58ea87c5-6937-42c3-a75b-b9003f33a225",
   "metadata": {
    "tags": []
   },
   "outputs": [
    {
     "data": {
      "text/plain": [
       "0        Doe\n",
       "1      Smith\n",
       "2        Lee\n",
       "3      Smith\n",
       "4       Wong\n",
       "       ...  \n",
       "694      Lee\n",
       "695    Smith\n",
       "696      Lee\n",
       "697      Lee\n",
       "698     Wong\n",
       "Name: doctor_name, Length: 690, dtype: object"
      ]
     },
     "execution_count": 20,
     "metadata": {},
     "output_type": "execute_result"
    }
   ],
   "source": [
    "surnames = split_dr_names.str[1] # avoiding redudancy of \"Dr.\".\n",
    "surnames"
   ]
  },
  {
   "cell_type": "code",
   "execution_count": 21,
   "id": "01963092-990b-4d82-aaa5-a993774680fa",
   "metadata": {
    "tags": []
   },
   "outputs": [],
   "source": [
    "bcd['doctor_name'] = surnames"
   ]
  },
  {
   "cell_type": "code",
   "execution_count": 22,
   "id": "0ef26fbf-ff13-46db-ac28-7b24aaf61324",
   "metadata": {
    "tags": []
   },
   "outputs": [
    {
     "data": {
      "text/plain": [
       "0       1\n",
       "1      10\n",
       "2       2\n",
       "3       4\n",
       "4       1\n",
       "       ..\n",
       "694     2\n",
       "695     1\n",
       "696     3\n",
       "697     4\n",
       "698     5\n",
       "Name: bare_nuclei, Length: 690, dtype: object"
      ]
     },
     "execution_count": 22,
     "metadata": {},
     "output_type": "execute_result"
    }
   ],
   "source": [
    "bcd['bare_nuclei']"
   ]
  },
  {
   "cell_type": "code",
   "execution_count": 26,
   "id": "efbc64b9-bd29-4585-81f8-94f426f9df6f",
   "metadata": {
    "tags": []
   },
   "outputs": [],
   "source": [
    "bcd['bare_nuclei'] = pd.to_numeric(bcd['bare_nuclei']) # making the column numerical. "
   ]
  },
  {
   "cell_type": "code",
   "execution_count": 27,
   "id": "399e18fb-bc2f-4af5-8466-63971fbeba7f",
   "metadata": {
    "tags": []
   },
   "outputs": [
    {
     "data": {
      "text/plain": [
       "patient_id               string[python]\n",
       "clump_thickness                 float64\n",
       "cell_size_uniformity            float64\n",
       "cell_shape_uniformity             int64\n",
       "marginal_adhesion                 int64\n",
       "single_ep_cell_size               int64\n",
       "bare_nuclei                     float64\n",
       "bland_chromatin                 float64\n",
       "normal_nucleoli                 float64\n",
       "mitoses                           int64\n",
       "class                            object\n",
       "doctor_name                      object\n",
       "dtype: object"
      ]
     },
     "execution_count": 27,
     "metadata": {},
     "output_type": "execute_result"
    }
   ],
   "source": [
    "bcd.dtypes What # checking the type again to double check that bare_nuclei changes"
   ]
  },
  {
   "cell_type": "code",
   "execution_count": 28,
   "id": "529c2b32-9357-45ba-8b07-e6c9531f6acd",
   "metadata": {
    "tags": []
   },
   "outputs": [
    {
     "data": {
      "text/html": [
       "<div>\n",
       "<style scoped>\n",
       "    .dataframe tbody tr th:only-of-type {\n",
       "        vertical-align: middle;\n",
       "    }\n",
       "\n",
       "    .dataframe tbody tr th {\n",
       "        vertical-align: top;\n",
       "    }\n",
       "\n",
       "    .dataframe thead th {\n",
       "        text-align: right;\n",
       "    }\n",
       "</style>\n",
       "<table border=\"1\" class=\"dataframe\">\n",
       "  <thead>\n",
       "    <tr style=\"text-align: right;\">\n",
       "      <th></th>\n",
       "      <th>patient_id</th>\n",
       "      <th>clump_thickness</th>\n",
       "      <th>cell_size_uniformity</th>\n",
       "      <th>cell_shape_uniformity</th>\n",
       "      <th>marginal_adhesion</th>\n",
       "      <th>single_ep_cell_size</th>\n",
       "      <th>bare_nuclei</th>\n",
       "      <th>bland_chromatin</th>\n",
       "      <th>normal_nucleoli</th>\n",
       "      <th>mitoses</th>\n",
       "      <th>class</th>\n",
       "      <th>doctor_name</th>\n",
       "    </tr>\n",
       "  </thead>\n",
       "  <tbody>\n",
       "    <tr>\n",
       "      <th>0</th>\n",
       "      <td>False</td>\n",
       "      <td>False</td>\n",
       "      <td>False</td>\n",
       "      <td>False</td>\n",
       "      <td>False</td>\n",
       "      <td>False</td>\n",
       "      <td>False</td>\n",
       "      <td>False</td>\n",
       "      <td>False</td>\n",
       "      <td>False</td>\n",
       "      <td>False</td>\n",
       "      <td>False</td>\n",
       "    </tr>\n",
       "    <tr>\n",
       "      <th>1</th>\n",
       "      <td>False</td>\n",
       "      <td>False</td>\n",
       "      <td>False</td>\n",
       "      <td>False</td>\n",
       "      <td>False</td>\n",
       "      <td>False</td>\n",
       "      <td>False</td>\n",
       "      <td>False</td>\n",
       "      <td>False</td>\n",
       "      <td>False</td>\n",
       "      <td>False</td>\n",
       "      <td>False</td>\n",
       "    </tr>\n",
       "    <tr>\n",
       "      <th>2</th>\n",
       "      <td>False</td>\n",
       "      <td>False</td>\n",
       "      <td>False</td>\n",
       "      <td>False</td>\n",
       "      <td>False</td>\n",
       "      <td>False</td>\n",
       "      <td>False</td>\n",
       "      <td>False</td>\n",
       "      <td>False</td>\n",
       "      <td>False</td>\n",
       "      <td>False</td>\n",
       "      <td>False</td>\n",
       "    </tr>\n",
       "    <tr>\n",
       "      <th>3</th>\n",
       "      <td>False</td>\n",
       "      <td>False</td>\n",
       "      <td>False</td>\n",
       "      <td>False</td>\n",
       "      <td>False</td>\n",
       "      <td>False</td>\n",
       "      <td>False</td>\n",
       "      <td>False</td>\n",
       "      <td>False</td>\n",
       "      <td>False</td>\n",
       "      <td>False</td>\n",
       "      <td>False</td>\n",
       "    </tr>\n",
       "    <tr>\n",
       "      <th>4</th>\n",
       "      <td>False</td>\n",
       "      <td>False</td>\n",
       "      <td>False</td>\n",
       "      <td>False</td>\n",
       "      <td>False</td>\n",
       "      <td>False</td>\n",
       "      <td>False</td>\n",
       "      <td>False</td>\n",
       "      <td>False</td>\n",
       "      <td>False</td>\n",
       "      <td>False</td>\n",
       "      <td>False</td>\n",
       "    </tr>\n",
       "    <tr>\n",
       "      <th>...</th>\n",
       "      <td>...</td>\n",
       "      <td>...</td>\n",
       "      <td>...</td>\n",
       "      <td>...</td>\n",
       "      <td>...</td>\n",
       "      <td>...</td>\n",
       "      <td>...</td>\n",
       "      <td>...</td>\n",
       "      <td>...</td>\n",
       "      <td>...</td>\n",
       "      <td>...</td>\n",
       "      <td>...</td>\n",
       "    </tr>\n",
       "    <tr>\n",
       "      <th>694</th>\n",
       "      <td>False</td>\n",
       "      <td>False</td>\n",
       "      <td>False</td>\n",
       "      <td>False</td>\n",
       "      <td>False</td>\n",
       "      <td>False</td>\n",
       "      <td>False</td>\n",
       "      <td>False</td>\n",
       "      <td>False</td>\n",
       "      <td>False</td>\n",
       "      <td>False</td>\n",
       "      <td>False</td>\n",
       "    </tr>\n",
       "    <tr>\n",
       "      <th>695</th>\n",
       "      <td>False</td>\n",
       "      <td>False</td>\n",
       "      <td>False</td>\n",
       "      <td>False</td>\n",
       "      <td>False</td>\n",
       "      <td>False</td>\n",
       "      <td>False</td>\n",
       "      <td>False</td>\n",
       "      <td>False</td>\n",
       "      <td>False</td>\n",
       "      <td>False</td>\n",
       "      <td>False</td>\n",
       "    </tr>\n",
       "    <tr>\n",
       "      <th>696</th>\n",
       "      <td>False</td>\n",
       "      <td>False</td>\n",
       "      <td>False</td>\n",
       "      <td>False</td>\n",
       "      <td>False</td>\n",
       "      <td>False</td>\n",
       "      <td>False</td>\n",
       "      <td>False</td>\n",
       "      <td>False</td>\n",
       "      <td>False</td>\n",
       "      <td>False</td>\n",
       "      <td>False</td>\n",
       "    </tr>\n",
       "    <tr>\n",
       "      <th>697</th>\n",
       "      <td>False</td>\n",
       "      <td>False</td>\n",
       "      <td>False</td>\n",
       "      <td>False</td>\n",
       "      <td>False</td>\n",
       "      <td>False</td>\n",
       "      <td>False</td>\n",
       "      <td>False</td>\n",
       "      <td>False</td>\n",
       "      <td>False</td>\n",
       "      <td>False</td>\n",
       "      <td>False</td>\n",
       "    </tr>\n",
       "    <tr>\n",
       "      <th>698</th>\n",
       "      <td>False</td>\n",
       "      <td>False</td>\n",
       "      <td>False</td>\n",
       "      <td>False</td>\n",
       "      <td>False</td>\n",
       "      <td>False</td>\n",
       "      <td>False</td>\n",
       "      <td>False</td>\n",
       "      <td>False</td>\n",
       "      <td>False</td>\n",
       "      <td>False</td>\n",
       "      <td>False</td>\n",
       "    </tr>\n",
       "  </tbody>\n",
       "</table>\n",
       "<p>690 rows × 12 columns</p>\n",
       "</div>"
      ],
      "text/plain": [
       "     patient_id  clump_thickness  cell_size_uniformity  cell_shape_uniformity  \\\n",
       "0         False            False                 False                  False   \n",
       "1         False            False                 False                  False   \n",
       "2         False            False                 False                  False   \n",
       "3         False            False                 False                  False   \n",
       "4         False            False                 False                  False   \n",
       "..          ...              ...                   ...                    ...   \n",
       "694       False            False                 False                  False   \n",
       "695       False            False                 False                  False   \n",
       "696       False            False                 False                  False   \n",
       "697       False            False                 False                  False   \n",
       "698       False            False                 False                  False   \n",
       "\n",
       "     marginal_adhesion  single_ep_cell_size  bare_nuclei  bland_chromatin  \\\n",
       "0                False                False        False            False   \n",
       "1                False                False        False            False   \n",
       "2                False                False        False            False   \n",
       "3                False                False        False            False   \n",
       "4                False                False        False            False   \n",
       "..                 ...                  ...          ...              ...   \n",
       "694              False                False        False            False   \n",
       "695              False                False        False            False   \n",
       "696              False                False        False            False   \n",
       "697              False                False        False            False   \n",
       "698              False                False        False            False   \n",
       "\n",
       "     normal_nucleoli  mitoses  class  doctor_name  \n",
       "0              False    False  False        False  \n",
       "1              False    False  False        False  \n",
       "2              False    False  False        False  \n",
       "3              False    False  False        False  \n",
       "4              False    False  False        False  \n",
       "..               ...      ...    ...          ...  \n",
       "694            False    False  False        False  \n",
       "695            False    False  False        False  \n",
       "696            False    False  False        False  \n",
       "697            False    False  False        False  \n",
       "698            False    False  False        False  \n",
       "\n",
       "[690 rows x 12 columns]"
      ]
     },
     "execution_count": 28,
     "metadata": {},
     "output_type": "execute_result"
    }
   ],
   "source": [
    "bcd.isna()"
   ]
  },
  {
   "cell_type": "code",
   "execution_count": 29,
   "id": "4863c7cb-5f1a-4d8b-8553-766c98d784f2",
   "metadata": {
    "tags": []
   },
   "outputs": [
    {
     "data": {
      "text/plain": [
       "patient_id                0\n",
       "clump_thickness           0\n",
       "cell_size_uniformity      0\n",
       "cell_shape_uniformity     0\n",
       "marginal_adhesion         0\n",
       "single_ep_cell_size       0\n",
       "bare_nuclei              16\n",
       "bland_chromatin           0\n",
       "normal_nucleoli           0\n",
       "mitoses                   0\n",
       "class                     0\n",
       "doctor_name               0\n",
       "dtype: int64"
      ]
     },
     "execution_count": 29,
     "metadata": {},
     "output_type": "execute_result"
    }
   ],
   "source": [
    "bcd.isna().sum()"
   ]
  },
  {
   "cell_type": "code",
   "execution_count": 30,
   "id": "b39ca609-dc03-48f4-9b46-db7d3757beed",
   "metadata": {
    "tags": []
   },
   "outputs": [],
   "source": [
    "bcd = bcd.dropna(axis = 1, how = 'any') # drop columns rather than rows"
   ]
  },
  {
   "cell_type": "code",
   "execution_count": 32,
   "id": "b1a399f6-3c5c-4440-83b9-f2a70a59660f",
   "metadata": {
    "tags": []
   },
   "outputs": [
    {
     "data": {
      "text/plain": [
       "patient_id               0\n",
       "clump_thickness          0\n",
       "cell_size_uniformity     0\n",
       "cell_shape_uniformity    0\n",
       "marginal_adhesion        0\n",
       "single_ep_cell_size      0\n",
       "bland_chromatin          0\n",
       "normal_nucleoli          0\n",
       "mitoses                  0\n",
       "class                    0\n",
       "doctor_name              0\n",
       "dtype: int64"
      ]
     },
     "execution_count": 32,
     "metadata": {},
     "output_type": "execute_result"
    }
   ],
   "source": [
    "bcd.isna().sum() # nothing missing!"
   ]
  },
  {
   "cell_type": "code",
   "execution_count": 33,
   "id": "72bcc63f-4d1b-478a-aa59-ea2645a35bd1",
   "metadata": {
    "tags": []
   },
   "outputs": [
    {
     "name": "stdout",
     "output_type": "stream",
     "text": [
      "    patient_id  clump_thickness  cell_size_uniformity  cell_shape_uniformity  \\\n",
      "0      1000025              5.0                   1.0                      1   \n",
      "1      1002945              5.0                   4.0                      4   \n",
      "2      1015425              3.0                   1.0                      1   \n",
      "3      1016277              6.0                   8.0                      8   \n",
      "4      1017023              4.0                   1.0                      1   \n",
      "..         ...              ...                   ...                    ...   \n",
      "694     776715              3.0                   1.0                      1   \n",
      "695     841769              2.0                   1.0                      1   \n",
      "696     888820              5.0                  10.0                     10   \n",
      "697     897471              4.0                   8.0                      6   \n",
      "698     897471              4.0                   8.0                      8   \n",
      "\n",
      "     marginal_adhesion  single_ep_cell_size  bland_chromatin  normal_nucleoli  \\\n",
      "0                    1                    2              3.0              1.0   \n",
      "1                    5                    7              3.0              2.0   \n",
      "2                    1                    2              3.0              1.0   \n",
      "3                    1                    3              3.0              7.0   \n",
      "4                    3                    2              3.0              1.0   \n",
      "..                 ...                  ...              ...              ...   \n",
      "694                  1                    3              1.0              1.0   \n",
      "695                  1                    2              1.0              1.0   \n",
      "696                  3                    7              8.0             10.0   \n",
      "697                  4                    3             10.0              6.0   \n",
      "698                  5                    4             10.0              4.0   \n",
      "\n",
      "     mitoses      class doctor_name  \n",
      "0          1     benign         Doe  \n",
      "1          1     benign       Smith  \n",
      "2          1     benign         Lee  \n",
      "3          1     benign       Smith  \n",
      "4          1     benign        Wong  \n",
      "..       ...        ...         ...  \n",
      "694        1     benign         Lee  \n",
      "695        1     benign       Smith  \n",
      "696        2  malignant         Lee  \n",
      "697        1  malignant         Lee  \n",
      "698        1  malignant        Wong  \n",
      "\n",
      "[690 rows x 11 columns]\n"
     ]
    }
   ],
   "source": [
    "print(bcd) # getting an overview of everything."
   ]
  },
  {
   "cell_type": "code",
   "execution_count": 34,
   "id": "78856dac-5218-40d2-95fa-35543c4a3b5d",
   "metadata": {
    "tags": []
   },
   "outputs": [],
   "source": [
    "bcd = bcd.fillna(0)"
   ]
  },
  {
   "cell_type": "code",
   "execution_count": 35,
   "id": "0efa78ee-93f2-443d-86cd-d89c47c03549",
   "metadata": {
    "tags": []
   },
   "outputs": [
    {
     "data": {
      "text/plain": [
       "patient_id               0\n",
       "clump_thickness          0\n",
       "cell_size_uniformity     0\n",
       "cell_shape_uniformity    0\n",
       "marginal_adhesion        0\n",
       "single_ep_cell_size      0\n",
       "bland_chromatin          0\n",
       "normal_nucleoli          0\n",
       "mitoses                  0\n",
       "class                    0\n",
       "doctor_name              0\n",
       "dtype: int64"
      ]
     },
     "execution_count": 35,
     "metadata": {},
     "output_type": "execute_result"
    }
   ],
   "source": [
    "bcd.isna().sum()"
   ]
  },
  {
   "cell_type": "code",
   "execution_count": 36,
   "id": "33331ae9-a854-481e-971d-143759a2cbb7",
   "metadata": {
    "tags": []
   },
   "outputs": [
    {
     "data": {
      "text/plain": [
       "patient_id               string[python]\n",
       "clump_thickness                 float64\n",
       "cell_size_uniformity            float64\n",
       "cell_shape_uniformity             int64\n",
       "marginal_adhesion                 int64\n",
       "single_ep_cell_size               int64\n",
       "bland_chromatin                 float64\n",
       "normal_nucleoli                 float64\n",
       "mitoses                           int64\n",
       "class                            object\n",
       "doctor_name                      object\n",
       "dtype: object"
      ]
     },
     "execution_count": 36,
     "metadata": {},
     "output_type": "execute_result"
    }
   ],
   "source": [
    "bcd.dtypes"
   ]
  },
  {
   "cell_type": "code",
   "execution_count": 168,
   "id": "6e3a4128-636c-442b-a919-adfe5651ff3e",
   "metadata": {
    "tags": []
   },
   "outputs": [
    {
     "name": "stdout",
     "output_type": "stream",
     "text": [
      "Here is a Boxplot of Clump Thickness by Doctor:\n"
     ]
    },
    {
     "data": {
      "image/png": "[encoded data removed]",
      "text/plain": [
       "<Figure size 640x480 with 1 Axes>"
      ]
     },
     "metadata": {},
     "output_type": "display_data"
    }
   ],
   "source": [
    "import pandas as pd\n",
    "import matplotlib.pyplot as plt\n",
    "import seaborn as sns\n",
    "\n",
    "sns.boxplot(x = 'doctor_name', y = 'clump_thickness', data = bcd) # making a boxplot of clump thickness by doctor \n",
    "plt.title('Clump Thickness by Doctor')\n",
    "\n",
    "print(\"Here is a Boxplot of Clump Thickness by Doctor:\") "
   ]
  },
  {
   "cell_type": "code",
   "execution_count": 167,
   "id": "46fe80e6-f36f-4d8f-bed6-27e110f1ab27",
   "metadata": {
    "tags": []
   },
   "outputs": [
    {
     "name": "stdout",
     "output_type": "stream",
     "text": [
      "Here is a Boxplot of Bland Chromatin by Doctor:\n"
     ]
    },
    {
     "data": {
      "image/png": "[encoded data removed]",
      "text/plain": [
       "<Figure size 640x480 with 1 Axes>"
      ]
     },
     "metadata": {},
     "output_type": "display_data"
    }
   ],
   "source": [
    "sns.boxplot(x = 'doctor_name', y = 'bland_chromatin', data = bcd) # bland chromatin boxplot\n",
    "plt.title('Bland Chromatin by Doctor')\n",
    "\n",
    "print(\"Here is a Boxplot of Bland Chromatin by Doctor:\")"
   ]
  },
  {
   "cell_type": "code",
   "execution_count": 166,
   "id": "17053573-9651-458d-a59d-1135220d0672",
   "metadata": {
    "tags": []
   },
   "outputs": [
    {
     "name": "stdout",
     "output_type": "stream",
     "text": [
      "Here is a Count of Tumor Type Diagnosis by Doctor:\n"
     ]
    },
    {
     "data": {
      "image/png": "[encoded data removed]",
      "text/plain": [
       "<Figure size 640x480 with 1 Axes>"
      ]
     },
     "metadata": {},
     "output_type": "display_data"
    }
   ],
   "source": [
    "sns.countplot(x = 'doctor_name', hue = 'class', data = bcd)\n",
    "plt.title('Tumor Type Diagnosis by Doctor')\n",
    "\n",
    "print(\"Here is a Count of Tumor Type Diagnosis by Doctor:\")"
   ]
  },
  {
   "cell_type": "code",
   "execution_count": 165,
   "id": "f5c5994a-601d-4b1f-bbf7-a01d23b3d4e1",
   "metadata": {
    "tags": []
   },
   "outputs": [
    {
     "name": "stdout",
     "output_type": "stream",
     "text": [
      "Comparing The Means of Clump Thickness and Bland Chromatin for Each Doctor:\n",
      "             clump_thickness  bland_chromatin\n",
      "doctor_name                                  \n",
      "Doe                 4.209945         3.088398\n",
      "Lee                 4.206704         3.435754\n",
      "Smith               4.862069         3.833333\n",
      "Wong                4.448718         3.435897\n"
     ]
    }
   ],
   "source": [
    "selected_columns = ['clump_thickness', 'bland_chromatin', 'doctor_name']\n",
    "means_by_doctor = bcd[selected_columns].groupby('doctor_name').mean()\n",
    "\n",
    "print(\"Comparing The Means of Clump Thickness and Bland Chromatin for Each Doctor:\")\n",
    "print(means_by_doctor)"
   ]
  },
  {
   "cell_type": "code",
   "execution_count": 164,
   "id": "6409ccc0-896e-416c-9d52-824fd6d4f547",
   "metadata": {
    "tags": []
   },
   "outputs": [
    {
     "name": "stdout",
     "output_type": "stream",
     "text": [
      "Count of Tumor Class for Each Doctor:\n",
      "class        benign  malignant\n",
      "doctor_name                   \n",
      "Doe             124         57\n",
      "Lee             119         60\n",
      "Smith           102         72\n",
      "Wong            107         49\n"
     ]
    }
   ],
   "source": [
    "selected_columns = ['class', 'doctor_name']\n",
    "count_by_doctor = bcd[selected_columns].groupby(['doctor_name', 'class']).size().unstack(fill_value = 0)\n",
    "\n",
    "print(\"Count of Tumor Class for Each Doctor:\")\n",
    "print(count_by_doctor)"
   ]
  },
  {
   "cell_type": "code",
   "execution_count": 162,
   "id": "424176c1-a0b3-418e-903d-e8fbd03de450",
   "metadata": {
    "tags": []
   },
   "outputs": [
    {
     "name": "stdout",
     "output_type": "stream",
     "text": [
      "Descriptive Statistics for Each Doctor:\n",
      "            clump_thickness                                                \\\n",
      "                      count      mean       std  min  25%  50%  75%   max   \n",
      "doctor_name                                                                 \n",
      "Doe                   181.0  4.209945  3.018482  1.0  1.0  4.0  5.0  10.0   \n",
      "Lee                   179.0  4.206704  2.507687  1.0  3.0  4.0  5.0  10.0   \n",
      "Smith                 174.0  4.862069  2.855569  1.0  3.0  5.0  7.0  10.0   \n",
      "Wong                  156.0  4.448718  2.815384  1.0  2.0  4.0  6.0  10.0   \n",
      "\n",
      "            bland_chromatin                                                \n",
      "                      count      mean       std  min  25%  50%  75%   max  \n",
      "doctor_name                                                                \n",
      "Doe                   181.0  3.088398  2.206790  1.0  2.0  2.0  4.0  10.0  \n",
      "Lee                   179.0  3.435754  2.431085  1.0  2.0  3.0  5.0  10.0  \n",
      "Smith                 174.0  3.833333  2.762430  1.0  2.0  3.0  7.0  10.0  \n",
      "Wong                  156.0  3.435897  2.269516  1.0  2.0  3.0  4.0  10.0  \n"
     ]
    }
   ],
   "source": [
    "import pandas as pd\n",
    "selected_columns = ['clump_thickness', 'bland_chromatin', 'class', 'doctor_name']\n",
    "\n",
    "descriptive_stats_by_doctor = bcd[selected_columns].groupby('doctor_name').describe()\n",
    "\n",
    "print(\"Descriptive Statistics for Each Doctor:\")\n",
    "print(descriptive_stats_by_doctor)"
   ]
  },
  {
   "cell_type": "code",
   "execution_count": 153,
   "id": "249dbbcd-e00a-41a0-ae40-db8ae94d80a8",
   "metadata": {
    "tags": []
   },
   "outputs": [
    {
     "data": {
      "text/plain": [
       "Text(0.5, 1.0, 'Tumor Type Diagnosis by Doctor')"
      ]
     },
     "execution_count": 153,
     "metadata": {},
     "output_type": "execute_result"
    },
    {
     "data": {
      "image/png": "[encoded data removed]",
      "text/plain": [
       "<Figure size 800x800 with 3 Axes>"
      ]
     },
     "metadata": {},
     "output_type": "display_data"
    }
   ],
   "source": [
    "import matplotlib.pyplot as plt\n",
    "import seaborn as sns\n",
    "\n",
    "fig = plt.figure(figsize = (8, 8), constrained_layout=True)\n",
    "fig.set_facecolor('lightgrey')\n",
    "spec = fig.add_gridspec(2, 2, height_ratios = [3, 1.5])\n",
    "ax0 = fig.add_subplot(spec[0, 0])\n",
    "\n",
    "sns.boxplot(x='doctor_name', y = 'clump_thickness', data = bcd, ax = ax0, palette = sns.color_palette('Set2'))\n",
    "ax0.set_title('Clump Thickness by Doctor')\n",
    "ax1 = fig.add_subplot(spec[0, 1])\n",
    "\n",
    "sns.boxplot(x = 'doctor_name', y = 'bland_chromatin', data = bcd, ax = ax1, palette = sns.color_palette('Set3'))\n",
    "ax1.set_title('Bland Chromatin by Doctor')\n",
    "ax2 = fig.add_subplot(spec[1, :])\n",
    "\n",
    "sns.countplot(x = 'doctor_name', hue = 'class', data = bcd, ax = ax2, palette = sns.color_palette('Set2'))\n",
    "ax2.set_title('Tumor Type Diagnosis by Doctor')"
   ]
  },
  {
   "cell_type": "markdown",
   "id": "a7d7edc5-6047-4516-8209-bf288a56cdd7",
   "metadata": {
    "tags": []
   },
   "source": [
    "# **Report**\n",
    "#### The report below explores differences in tumor diagnosis, clump thickness, and bland chromatin. The aim is to improve patient outcomes by improving the diagnosis process. \n",
    "##### There are higher cases of bengin tumors than malignant tumor diagnoses across all doctors, this suggests that there is higher prevalance of begnin cases: "
   ]
  },
  {
   "cell_type": "code",
   "execution_count": 157,
   "id": "a8f8d650-ef48-4c42-9841-3cb76783f0be",
   "metadata": {
    "tags": []
   },
   "outputs": [
    {
     "name": "stdout",
     "output_type": "stream",
     "text": [
      "Count of Tumor Class for Each Doctor:\n",
      "class        benign  malignant\n",
      "doctor_name                   \n",
      "Doe             124         57\n",
      "Lee             119         60\n",
      "Smith           102         72\n",
      "Wong            107         49\n"
     ]
    }
   ],
   "source": [
    "selected_columns = ['class', 'doctor_name']\n",
    "\n",
    "# Group by 'doctor' and calculate the count of tumor classes\n",
    "count_by_doctor = bcd[selected_columns].groupby(['doctor_name', 'class']).size().unstack(fill_value = 0)\n",
    "print(\"Count of Tumor Class for Each Doctor:\")\n",
    "print(count_by_doctor)"
   ]
  },
  {
   "cell_type": "markdown",
   "id": "71fe62ee-7242-457b-831b-6500b34b2632",
   "metadata": {},
   "source": [
    "##### Below is the means for both clump thickness and bland chromatin for all doctors. The results suggest that, the results are relativley similar, but it might be worth discovering why Smith has a higher mean for both. There could be a difference in the population that each doctor sees. Furthermore, Doe has the lowest mean for bland chromatin and a higher standard devation for clump thickness––this suggests that there is a larger variance in the data. It is also important to note that Wong had less patients. Overall, it could be worth it to explore training options for more consistent results. "
   ]
  },
  {
   "cell_type": "code",
   "execution_count": 158,
   "id": "a128e82e-2757-41db-bc63-246ad7f225c0",
   "metadata": {
    "tags": []
   },
   "outputs": [
    {
     "name": "stdout",
     "output_type": "stream",
     "text": [
      "Descriptive Statistics for Each Doctor:\n",
      "            clump_thickness                                                \\\n",
      "                      count      mean       std  min  25%  50%  75%   max   \n",
      "doctor_name                                                                 \n",
      "Doe                   181.0  4.209945  3.018482  1.0  1.0  4.0  5.0  10.0   \n",
      "Lee                   179.0  4.206704  2.507687  1.0  3.0  4.0  5.0  10.0   \n",
      "Smith                 174.0  4.862069  2.855569  1.0  3.0  5.0  7.0  10.0   \n",
      "Wong                  156.0  4.448718  2.815384  1.0  2.0  4.0  6.0  10.0   \n",
      "\n",
      "            bland_chromatin                                                \n",
      "                      count      mean       std  min  25%  50%  75%   max  \n",
      "doctor_name                                                                \n",
      "Doe                   181.0  3.088398  2.206790  1.0  2.0  2.0  4.0  10.0  \n",
      "Lee                   179.0  3.435754  2.431085  1.0  2.0  3.0  5.0  10.0  \n",
      "Smith                 174.0  3.833333  2.762430  1.0  2.0  3.0  7.0  10.0  \n",
      "Wong                  156.0  3.435897  2.269516  1.0  2.0  3.0  4.0  10.0  \n"
     ]
    }
   ],
   "source": [
    "import pandas as pd\n",
    "selected_columns = ['clump_thickness', 'bland_chromatin', 'class', 'doctor_name']\n",
    "\n",
    "descriptive_stats_by_doctor = bcd[selected_columns].groupby('doctor_name').describe()\n",
    "\n",
    "print(\"Descriptive Statistics for Each Doctor:\")\n",
    "print(descriptive_stats_by_doctor)"
   ]
  },
  {
   "cell_type": "markdown",
   "id": "17dff4be-88b1-4cd5-902d-6e3c21a97212",
   "metadata": {},
   "source": [
    "##### Below is two boxplots of clump thickness and bland chromatin as well as tumor diagnosis type. It is helpful to have a visual aid for the descriptive statstics above. "
   ]
  },
  {
   "cell_type": "code",
   "execution_count": 161,
   "id": "3504bf82-0253-46fd-946b-7c26a29b06c5",
   "metadata": {
    "tags": []
   },
   "outputs": [
    {
     "name": "stdout",
     "output_type": "stream",
     "text": [
      "Figure 1.\n"
     ]
    },
    {
     "data": {
      "image/png": "[encoded data removed]",
      "text/plain": [
       "<Figure size 800x800 with 3 Axes>"
      ]
     },
     "metadata": {},
     "output_type": "display_data"
    }
   ],
   "source": [
    "import matplotlib.pyplot as plt\n",
    "import seaborn as sns\n",
    "\n",
    "fig = plt.figure(figsize = (8, 8), constrained_layout=True)\n",
    "fig.set_facecolor('lightgrey')\n",
    "spec = fig.add_gridspec(2, 2, height_ratios = [3, 1.5])\n",
    "ax0 = fig.add_subplot(spec[0, 0])\n",
    "\n",
    "sns.boxplot(x='doctor_name', y = 'clump_thickness', data = bcd, ax = ax0, palette = sns.color_palette('Set2'))\n",
    "ax0.set_title('Clump Thickness by Doctor')\n",
    "ax1 = fig.add_subplot(spec[0, 1])\n",
    "\n",
    "sns.boxplot(x = 'doctor_name', y = 'bland_chromatin', data = bcd, ax = ax1, palette = sns.color_palette('Set3'))\n",
    "ax1.set_title('Bland Chromatin by Doctor')\n",
    "ax2 = fig.add_subplot(spec[1, :])\n",
    "\n",
    "sns.countplot(x = 'doctor_name', hue = 'class', data = bcd, ax = ax2, palette = sns.color_palette('Set2'))\n",
    "ax2.set_title('Tumor Type Diagnosis by Doctor')\n",
    "print(\"Figure 1.\")"
   ]
  }
 ],
 "metadata": {
  "kernelspec": {
   "display_name": "Python 3 (ipykernel)",
   "language": "python",
   "name": "python3"
  },
  "language_info": {
   "codemirror_mode": {
    "name": "ipython",
    "version": 3
   },
   "file_extension": ".py",
   "mimetype": "text/x-python",
   "name": "python",
   "nbconvert_exporter": "python",
   "pygments_lexer": "ipython3",
   "version": "3.11.5"
  }
 },
 "nbformat": 4,
 "nbformat_minor": 5
}
