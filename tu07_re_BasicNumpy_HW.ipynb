{
 "cells": [
  {
   "cell_type": "markdown",
   "id": "1f1534b9",
   "metadata": {},
   "source": [
    "# Numpy review homework"
   ]
  },
  {
   "cell_type": "markdown",
   "id": "4db19bcf",
   "metadata": {},
   "source": [
    "1. Make a numpy matrix from a Python list of lists..."
   ]
  },
  {
   "cell_type": "code",
   "execution_count": 8,
   "id": "6b140a06",
   "metadata": {
    "tags": []
   },
   "outputs": [
    {
     "name": "stdout",
     "output_type": "stream",
     "text": [
      "[[2.1, 2.8, 2.7], [7.7, 7.8, 7.9], [3.7, 7.6, 8.9]]\n"
     ]
    }
   ],
   "source": [
    "import numpy as np\n",
    "my_Lists = [[2.1, 2.8, 2.7], [7.7, 7.8, 7.9], [3.7, 7.6, 8.9]]\n",
    "print(my_Lists)"
   ]
  },
  {
   "cell_type": "code",
   "execution_count": 10,
   "id": "65c6c7d2-0127-45e1-8437-2287102b6546",
   "metadata": {
    "tags": []
   },
   "outputs": [
    {
     "name": "stdout",
     "output_type": "stream",
     "text": [
      "[[2.1 2.8 2.7]\n",
      " [7.7 7.8 7.9]\n",
      " [3.7 7.6 8.9]]\n"
     ]
    }
   ],
   "source": [
    "import numpy as np\n",
    "my_Matrix = np.array(my_Lists)\n",
    "print(my_Matrix)"
   ]
  },
  {
   "cell_type": "markdown",
   "id": "dd6e8ffb",
   "metadata": {},
   "source": [
    "2. Make a 3D numpy matrix from a Python list of lists of lists!"
   ]
  },
  {
   "cell_type": "code",
   "execution_count": 12,
   "id": "c977766b",
   "metadata": {
    "tags": []
   },
   "outputs": [
    {
     "name": "stdout",
     "output_type": "stream",
     "text": [
      "[[[ 1  2  3]\n",
      "  [ 4  5  6]]\n",
      "\n",
      " [[ 7  8  9]\n",
      "  [10 11 12]]\n",
      "\n",
      " [[13 14 15]\n",
      "  [16 17 18]]]\n"
     ]
    }
   ],
   "source": [
    "import numpy as np\n",
    "\n",
    "list_of_lists = [\n",
    "    [[1, 2, 3], [4, 5, 6]],\n",
    "    [[7, 8, 9], [10, 11, 12]],\n",
    "    [[13, 14, 15], [16, 17, 18]]\n",
    "]\n",
    "my_numpy_matrix = np.array(list_of_lists)\n",
    "print(my_numpy_matrix)"
   ]
  },
  {
   "cell_type": "code",
   "execution_count": 13,
   "id": "2e738e82-54ec-4c40-841f-5177b2a29a32",
   "metadata": {
    "tags": []
   },
   "outputs": [
    {
     "data": {
      "text/plain": [
       "numpy.ndarray"
      ]
     },
     "execution_count": 13,
     "metadata": {},
     "output_type": "execute_result"
    }
   ],
   "source": [
    "type(my_numpy_matrix)"
   ]
  },
  {
   "cell_type": "markdown",
   "id": "8ad64691",
   "metadata": {},
   "source": [
    "3. Create a 5x3 array of Gaussian random numbers. "
   ]
  },
  {
   "cell_type": "code",
   "execution_count": 4,
   "id": "5f280edc",
   "metadata": {
    "tags": []
   },
   "outputs": [
    {
     "name": "stdout",
     "output_type": "stream",
     "text": [
      "[[ 0.03660822 -1.04133265  0.39261375]\n",
      " [-0.64500072 -2.64856645  1.29360722]\n",
      " [ 0.47475202  0.36914796  0.70630154]\n",
      " [ 0.0148078  -1.04736126  0.32441835]\n",
      " [-0.32481758  0.93744731 -0.42288212]]\n"
     ]
    }
   ],
   "source": [
    "import numpy as np\n",
    "gau = np.random.randn(5,3)\n",
    "print(gau)"
   ]
  },
  {
   "cell_type": "markdown",
   "id": "d129639e",
   "metadata": {},
   "source": [
    "4. Write a script to go through the array created in 3. and announce (print) the value and its row and column indexes.\n",
    "\n",
    "Hint: Use nested `for` loops - one to loop through the rows and one to loop through the columns."
   ]
  },
  {
   "cell_type": "code",
   "execution_count": 18,
   "id": "10bf9af5-1eda-4dfa-9577-3b9288c731ba",
   "metadata": {
    "tags": []
   },
   "outputs": [
    {
     "name": "stdout",
     "output_type": "stream",
     "text": [
      "value: 2.012902448123441, row: 0, column: 0\n",
      "value: -0.16791026254464958, row: 0, column: 1\n",
      "value: 0.2516982074997594, row: 0, column: 2\n",
      "value: 0.4996776906664015, row: 1, column: 0\n",
      "value: 0.4105088399623078, row: 1, column: 1\n",
      "value: -0.9320756033715177, row: 1, column: 2\n",
      "value: -0.43266723653866823, row: 2, column: 0\n",
      "value: -0.1768033057801706, row: 2, column: 1\n",
      "value: -0.6812783862875021, row: 2, column: 2\n",
      "value: 0.2511028754158366, row: 3, column: 0\n",
      "value: -0.035955329044330624, row: 3, column: 1\n",
      "value: 0.22758682877179828, row: 3, column: 2\n",
      "value: 1.0161280865441102, row: 4, column: 0\n",
      "value: -1.9260323284142629, row: 4, column: 1\n",
      "value: 0.025473650891452832, row: 4, column: 2\n"
     ]
    }
   ],
   "source": [
    "import numpy as np\n",
    "gau = np.random.randn(5, 3)\n",
    "for i in range(gau.shape[0]):\n",
    "    for j in range(gau.shape[1]):\n",
    "        value = gau[i, j]\n",
    "        print(f\"value: {value}, row: {i}, column: {j}\")"
   ]
  },
  {
   "cell_type": "markdown",
   "id": "2f6c8094",
   "metadata": {},
   "source": [
    "5. Make an new array out of your random numbers such that the mean is 10 and the standard deviation is 3."
   ]
  },
  {
   "cell_type": "code",
   "execution_count": 21,
   "id": "b8cfc374",
   "metadata": {
    "tags": []
   },
   "outputs": [
    {
     "name": "stdout",
     "output_type": "stream",
     "text": [
      "original:\n",
      "[[-0.25479756 -0.82173572 -0.84448922]\n",
      " [ 0.47753042 -1.13042503 -1.40326741]\n",
      " [-0.58795708  0.44033627  0.55907358]\n",
      " [ 0.00540965  1.88353225 -0.80974345]\n",
      " [-0.24605808 -0.23301253  1.04912049]]\n",
      "\n",
      "array with mean 10 and STD of 3:\n",
      "[[ 9.23560733  7.53479285  7.46653233]\n",
      " [11.43259125  6.60872491  5.79019776]\n",
      " [ 8.23612877 11.3210088  11.67722074]\n",
      " [10.01622896 15.65059675  7.57076965]\n",
      " [ 9.26182576  9.3009624  13.14736148]]\n"
     ]
    }
   ],
   "source": [
    "import numpy as np\n",
    "gau = np.random.randn(5, 3)\n",
    "mean2 = 10\n",
    "std2 = 3\n",
    "shifted_array = gau * std2 + mean2\n",
    "print(\"original:\")\n",
    "print(gau)\n",
    "print(\"\\narray with mean 10 and STD of 3:\")\n",
    "print(shifted_array)"
   ]
  },
  {
   "cell_type": "markdown",
   "id": "431e4556",
   "metadata": {},
   "source": [
    "6. Count the number of values in your new array that are below 7."
   ]
  },
  {
   "cell_type": "code",
   "execution_count": 22,
   "id": "80cb12c5",
   "metadata": {
    "tags": []
   },
   "outputs": [
    {
     "name": "stdout",
     "output_type": "stream",
     "text": [
      "New array that are below 7: 2\n"
     ]
    }
   ],
   "source": [
    "count7 = np.sum(shifted_array < 7)\n",
    "print(f\"New array that are below 7: {count7}\")"
   ]
  },
  {
   "cell_type": "markdown",
   "id": "f7191a90",
   "metadata": {},
   "source": [
    "7. Make a numpy sequence that has the even numbers from 2 up to (and including) 20."
   ]
  },
  {
   "cell_type": "code",
   "execution_count": 23,
   "id": "23277d0c",
   "metadata": {
    "tags": []
   },
   "outputs": [
    {
     "name": "stdout",
     "output_type": "stream",
     "text": [
      "[[ 2  4]\n",
      " [ 6  8]\n",
      " [10 12]\n",
      " [14 16]\n",
      " [18 20]]\n"
     ]
    }
   ],
   "source": [
    "import numpy as np\n",
    "even2 = np.array(np.arange(2, 21, 2))\n",
    "even3 = even2.reshape((5, 2))\n",
    "print(even3)"
   ]
  },
  {
   "cell_type": "markdown",
   "id": "40bd499e",
   "metadata": {},
   "source": [
    "8. Get the second and third rows of your array."
   ]
  },
  {
   "cell_type": "code",
   "execution_count": 24,
   "id": "1abb0c7b",
   "metadata": {
    "tags": []
   },
   "outputs": [
    {
     "name": "stdout",
     "output_type": "stream",
     "text": [
      "here are the second and third Rows:\n",
      "[[ 6  8]\n",
      " [10 12]]\n"
     ]
    }
   ],
   "source": [
    "rows = even3[1:3, :]\n",
    "print(\"here are the second and third Rows:\")\n",
    "print(rows)"
   ]
  },
  {
   "cell_type": "markdown",
   "id": "1c3779c3",
   "metadata": {},
   "source": [
    "9. Compute the mean of the columns of your array."
   ]
  },
  {
   "cell_type": "code",
   "execution_count": 25,
   "id": "4e166283",
   "metadata": {
    "tags": []
   },
   "outputs": [
    {
     "name": "stdout",
     "output_type": "stream",
     "text": [
      "Here are the mean of the columns:\n",
      "11.0\n"
     ]
    }
   ],
   "source": [
    "means1 = np.mean(even3)\n",
    "print(\"Here are the mean of the columns:\")\n",
    "print(means1)"
   ]
  }
 ],
 "metadata": {
  "kernelspec": {
   "display_name": "Python 3 (ipykernel)",
   "language": "python",
   "name": "python3"
  },
  "language_info": {
   "codemirror_mode": {
    "name": "ipython",
    "version": 3
   },
   "file_extension": ".py",
   "mimetype": "text/x-python",
   "name": "python",
   "nbconvert_exporter": "python",
   "pygments_lexer": "ipython3",
   "version": "3.11.5"
  }
 },
 "nbformat": 4,
 "nbformat_minor": 5
}
