{
 "cells": [
  {
   "cell_type": "markdown",
   "id": "81d19d16",
   "metadata": {},
   "source": [
    "   # Ifs, loops, and function homework"
   ]
  },
  {
   "cell_type": "markdown",
   "id": "bd745db6",
   "metadata": {},
   "source": [
    "## 1. A function to reverse a string \n",
    "\n",
    "Write and test a function that reverses a string entered by a user. This function will have one input value (a string) and one output value (also a string).\n",
    "\n",
    "Test your function on, among other things, Napoleon's quote 'able was i ere i saw elba'"
   ]
  },
  {
   "cell_type": "code",
   "execution_count": 1,
   "id": "551a9bcb",
   "metadata": {},
   "outputs": [
    {
     "name": "stdout",
     "output_type": "stream",
     "text": [
      "able was i ere i saw elba\n"
     ]
    }
   ],
   "source": [
    "napo_quote = \"able was i ere i saw elba\"\n",
    "run_backwards = []\n",
    "for i in reversed(napo_quote) :\n",
    "    run_backwards.append(i)\n",
    "run_backwards = ''.join(run_backwards)\n",
    "print(run_backwards)"
   ]
  },
  {
   "cell_type": "code",
   "execution_count": 2,
   "id": "8da04a3c-058b-4acf-bae8-5286c12da216",
   "metadata": {
    "tags": []
   },
   "outputs": [
    {
     "name": "stdout",
     "output_type": "stream",
     "text": [
      "!yadseuT si yadot ,dlroW olleH\n"
     ]
    }
   ],
   "source": [
    "rando_quote = \"Hello World, today is Tuesday!\"\n",
    "run_backwards = []\n",
    "for i in reversed(rando_quote) :\n",
    "    run_backwards.append(i)\n",
    "run_backwards = ''.join(run_backwards)\n",
    "print(run_backwards)"
   ]
  },
  {
   "cell_type": "markdown",
   "id": "72bc6f2e",
   "metadata": {},
   "source": [
    "*Optional challenge*: run the above on \"race car\" and then fix the resulting string."
   ]
  },
  {
   "cell_type": "code",
   "execution_count": null,
   "id": "7abd516b",
   "metadata": {},
   "outputs": [],
   "source": []
  },
  {
   "cell_type": "markdown",
   "id": "f351711e",
   "metadata": {},
   "source": [
    "## 2. Determine if a number is prime\n",
    "\n",
    "Write some code to test whether a number is prime or not, a prime number being an integer that is evenly divisible only by 1 and itself. \n",
    "\n",
    "Hint: another way to think about a prime number is that, if the smallest number (other than 1) that divides evenly into a number *is* that number, than the number is a prime.\n",
    "\n",
    "The easiest solution involves one `while` loop and one `if` test."
   ]
  },
  {
   "cell_type": "code",
   "execution_count": 32,
   "id": "4bef5c5c",
   "metadata": {},
   "outputs": [],
   "source": [
    "def primeNumber(num) : # making the function \n",
    "    i = num - 1\n",
    "    while i > 1:\n",
    "        if num % i == 0:\n",
    "            return False # saying that it is not a prime number \n",
    "        i = i -1 \n",
    "    return True "
   ]
  },
  {
   "cell_type": "code",
   "execution_count": 29,
   "id": "12485dfa-b72b-4f6e-8706-72712c4e2e43",
   "metadata": {
    "tags": []
   },
   "outputs": [
    {
     "name": "stdout",
     "output_type": "stream",
     "text": [
      "True\n"
     ]
    }
   ],
   "source": [
    "print(primeNumber(5))"
   ]
  },
  {
   "cell_type": "code",
   "execution_count": 31,
   "id": "21121da5-d0d2-4027-a065-0434a0ba522d",
   "metadata": {
    "tags": []
   },
   "outputs": [
    {
     "data": {
      "text/plain": [
       "False"
      ]
     },
     "execution_count": 31,
     "metadata": {},
     "output_type": "execute_result"
    }
   ],
   "source": [
    "(primeNumber(4))"
   ]
  },
  {
   "cell_type": "markdown",
   "id": "97515edc",
   "metadata": {},
   "source": [
    "## 3. Find the first 10 primes\n",
    "\n",
    "Extend your code above to find the first 10 prime numbers. This will involve wrapping your existing code in another \"outer\" loop.\n"
   ]
  },
  {
   "cell_type": "code",
   "execution_count": 34,
   "id": "f518030e",
   "metadata": {},
   "outputs": [
    {
     "name": "stdout",
     "output_type": "stream",
     "text": [
      "These are the first ten prime numbers: [3, 5, 7, 11, 13, 17, 19, 23, 29, 31]\n"
     ]
    }
   ],
   "source": [
    "def primeNumber(num) : # making the function \n",
    "    i = num - 1\n",
    "    while i > 1:\n",
    "        if num % i == 0:\n",
    "            return False # saying that it is not a prime number \n",
    "        i = i -1 \n",
    "    return True \n",
    "\n",
    "def findingFirstPrimes(n):\n",
    "    primes = []\n",
    "    number = 3\n",
    "    \n",
    "    while len(primes) < n:\n",
    "        if primeNumber(number):\n",
    "            primes.append(number)\n",
    "        number += 1\n",
    "    return primes \n",
    "\n",
    "firstTenPrimes = findingFirstPrimes(10)\n",
    "print(\"These are the first ten prime numbers:\", firstTenPrimes)"
   ]
  },
  {
   "cell_type": "markdown",
   "id": "13c2c9d2",
   "metadata": {},
   "source": [
    "## 4. Make a function to compute the first n primes\n",
    "\n",
    "Functionalize (is that a word?) your above code. A user should be able to call your code with one integer argument and get a list back containing that number of primes. Make sure your function handles inputs of an incorrect type gracefully. You should also warn the user if they enter a really big number (which could take a long time...), and give them the option of either bailing or entering a different number."
   ]
  }
 ],
 "metadata": {
  "kernelspec": {
   "display_name": "Python 3 (ipykernel)",
   "language": "python",
   "name": "python3"
  },
  "language_info": {
   "codemirror_mode": {
    "name": "ipython",
    "version": 3
   },
   "file_extension": ".py",
   "mimetype": "text/x-python",
   "name": "python",
   "nbconvert_exporter": "python",
   "pygments_lexer": "ipython3",
   "version": "3.11.5"
  }
 },
 "nbformat": 4,
 "nbformat_minor": 5
}
