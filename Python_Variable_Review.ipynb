{
 "cells": [
  {
   "cell_type": "code",
   "execution_count": 1,
   "id": "18c00b09",
   "metadata": {},
   "outputs": [],
   "source": [
    "anObject = 42"
   ]
  },
  {
   "cell_type": "code",
   "execution_count": 2,
   "id": "357db4bc",
   "metadata": {},
   "outputs": [
    {
     "data": {
      "text/plain": [
       "42"
      ]
     },
     "execution_count": 2,
     "metadata": {},
     "output_type": "execute_result"
    }
   ],
   "source": [
    "anObject"
   ]
  },
  {
   "cell_type": "code",
   "execution_count": 3,
   "id": "f9ed4786",
   "metadata": {},
   "outputs": [
    {
     "data": {
      "text/plain": [
       "int"
      ]
     },
     "execution_count": 3,
     "metadata": {},
     "output_type": "execute_result"
    }
   ],
   "source": [
    "type(anObject)"
   ]
  },
  {
   "cell_type": "code",
   "execution_count": 4,
   "id": "88e00c59",
   "metadata": {},
   "outputs": [
    {
     "data": {
      "text/plain": [
       "6"
      ]
     },
     "execution_count": 4,
     "metadata": {},
     "output_type": "execute_result"
    }
   ],
   "source": [
    "anObject.bit_length()"
   ]
  },
  {
   "cell_type": "code",
   "execution_count": 5,
   "id": "59dc40e6",
   "metadata": {},
   "outputs": [],
   "source": [
    "a = 55"
   ]
  },
  {
   "cell_type": "code",
   "execution_count": 6,
   "id": "cc1012e2",
   "metadata": {},
   "outputs": [
    {
     "data": {
      "text/plain": [
       "int"
      ]
     },
     "execution_count": 6,
     "metadata": {},
     "output_type": "execute_result"
    }
   ],
   "source": [
    "type(a)"
   ]
  },
  {
   "cell_type": "code",
   "execution_count": 7,
   "id": "6be2064c",
   "metadata": {},
   "outputs": [
    {
     "data": {
      "text/plain": [
       "6"
      ]
     },
     "execution_count": 7,
     "metadata": {},
     "output_type": "execute_result"
    }
   ],
   "source": [
    "a.bit_length()"
   ]
  },
  {
   "cell_type": "code",
   "execution_count": 8,
   "id": "348d4819",
   "metadata": {},
   "outputs": [],
   "source": [
    "notAnotherObject = 42"
   ]
  },
  {
   "cell_type": "code",
   "execution_count": 9,
   "id": "6ac8b805",
   "metadata": {},
   "outputs": [
    {
     "data": {
      "text/plain": [
       "4449976952"
      ]
     },
     "execution_count": 9,
     "metadata": {},
     "output_type": "execute_result"
    }
   ],
   "source": [
    "id(anObject)"
   ]
  },
  {
   "cell_type": "code",
   "execution_count": 10,
   "id": "2aa6d239",
   "metadata": {},
   "outputs": [
    {
     "data": {
      "text/plain": [
       "4449976952"
      ]
     },
     "execution_count": 10,
     "metadata": {},
     "output_type": "execute_result"
    }
   ],
   "source": [
    "id(notAnotherObject)"
   ]
  },
  {
   "cell_type": "code",
   "execution_count": 11,
   "id": "d2823b28",
   "metadata": {},
   "outputs": [],
   "source": [
    "anObject = 11"
   ]
  },
  {
   "cell_type": "code",
   "execution_count": 12,
   "id": "45b8450e",
   "metadata": {},
   "outputs": [
    {
     "name": "stdout",
     "output_type": "stream",
     "text": [
      "11\n"
     ]
    }
   ],
   "source": [
    "print(anObject)"
   ]
  },
  {
   "cell_type": "code",
   "execution_count": 14,
   "id": "3f00cec9",
   "metadata": {},
   "outputs": [
    {
     "name": "stdout",
     "output_type": "stream",
     "text": [
      "The ids are 4449975960 for anObject \\ and 4449976952 for notAnotherObject\n"
     ]
    }
   ],
   "source": [
    "print(f\"The ids are {id(anObject)} for anObject \\ and {id(notAnotherObject)} for notAnotherObject\")"
   ]
  },
  {
   "cell_type": "code",
   "execution_count": 15,
   "id": "32e261aa",
   "metadata": {},
   "outputs": [
    {
     "data": {
      "text/plain": [
       "[1, 3, 5]"
      ]
     },
     "execution_count": 15,
     "metadata": {},
     "output_type": "execute_result"
    }
   ],
   "source": [
    "aList = [1,\n",
    "        3,\n",
    "        5]\n",
    "aList"
   ]
  },
  {
   "cell_type": "code",
   "execution_count": 16,
   "id": "86f6ba4a",
   "metadata": {},
   "outputs": [],
   "source": [
    "eleven = 11"
   ]
  },
  {
   "cell_type": "code",
   "execution_count": 17,
   "id": "b0255eee",
   "metadata": {},
   "outputs": [
    {
     "name": "stdout",
     "output_type": "stream",
     "text": [
      "Variable           Type    Data/Info\n",
      "------------------------------------\n",
      "a                  int     55\n",
      "aList              list    n=3\n",
      "anObject           int     11\n",
      "eleven             int     11\n",
      "notAnotherObject   int     42\n"
     ]
    }
   ],
   "source": [
    "whos"
   ]
  },
  {
   "cell_type": "markdown",
   "id": "d9809703",
   "metadata": {},
   "source": [
    "We have 5 items, there are 4 unique objects"
   ]
  },
  {
   "cell_type": "code",
   "execution_count": 18,
   "id": "05a49beb",
   "metadata": {},
   "outputs": [],
   "source": [
    "aBool = True "
   ]
  },
  {
   "cell_type": "code",
   "execution_count": 19,
   "id": "19c1c918",
   "metadata": {},
   "outputs": [],
   "source": [
    "anotherBool = False"
   ]
  },
  {
   "cell_type": "code",
   "execution_count": 20,
   "id": "4990c4ef",
   "metadata": {},
   "outputs": [
    {
     "data": {
      "text/plain": [
       "bool"
      ]
     },
     "execution_count": 20,
     "metadata": {},
     "output_type": "execute_result"
    }
   ],
   "source": [
    "type(aBool)"
   ]
  },
  {
   "cell_type": "code",
   "execution_count": 21,
   "id": "0a195fe6",
   "metadata": {},
   "outputs": [
    {
     "data": {
      "text/plain": [
       "bool"
      ]
     },
     "execution_count": 21,
     "metadata": {},
     "output_type": "execute_result"
    }
   ],
   "source": [
    "type(anotherBool)"
   ]
  },
  {
   "cell_type": "code",
   "execution_count": 22,
   "id": "7290187d",
   "metadata": {},
   "outputs": [],
   "source": [
    "ObjectBool = False"
   ]
  },
  {
   "cell_type": "code",
   "execution_count": 23,
   "id": "83e1149c",
   "metadata": {},
   "outputs": [],
   "source": [
    "Object2Bool = True"
   ]
  },
  {
   "cell_type": "code",
   "execution_count": 24,
   "id": "cc4a1f27",
   "metadata": {},
   "outputs": [
    {
     "data": {
      "text/plain": [
       "4449974600"
      ]
     },
     "execution_count": 24,
     "metadata": {},
     "output_type": "execute_result"
    }
   ],
   "source": [
    "id(ObjectBool)"
   ]
  },
  {
   "cell_type": "code",
   "execution_count": 25,
   "id": "dfc11d71",
   "metadata": {},
   "outputs": [
    {
     "data": {
      "text/plain": [
       "4449974632"
      ]
     },
     "execution_count": 25,
     "metadata": {},
     "output_type": "execute_result"
    }
   ],
   "source": [
    "id(Object2Bool)"
   ]
  },
  {
   "cell_type": "markdown",
   "id": "d99a8163",
   "metadata": {},
   "source": [
    "Each boolean has it's own unique id number "
   ]
  },
  {
   "cell_type": "code",
   "execution_count": 26,
   "id": "0c850f14",
   "metadata": {},
   "outputs": [
    {
     "data": {
      "text/plain": [
       "False"
      ]
     },
     "execution_count": 26,
     "metadata": {},
     "output_type": "execute_result"
    }
   ],
   "source": [
    "bool(0)"
   ]
  },
  {
   "cell_type": "code",
   "execution_count": 27,
   "id": "5686b7ee",
   "metadata": {},
   "outputs": [
    {
     "data": {
      "text/plain": [
       "True"
      ]
     },
     "execution_count": 27,
     "metadata": {},
     "output_type": "execute_result"
    }
   ],
   "source": [
    "bool(78)"
   ]
  },
  {
   "cell_type": "code",
   "execution_count": 33,
   "id": "028901f2",
   "metadata": {},
   "outputs": [
    {
     "data": {
      "text/plain": [
       "True"
      ]
     },
     "execution_count": 33,
     "metadata": {},
     "output_type": "execute_result"
    }
   ],
   "source": [
    "bool(-9)"
   ]
  },
  {
   "cell_type": "code",
   "execution_count": 28,
   "id": "005bb101",
   "metadata": {},
   "outputs": [
    {
     "data": {
      "text/plain": [
       "0"
      ]
     },
     "execution_count": 28,
     "metadata": {},
     "output_type": "execute_result"
    }
   ],
   "source": [
    "int(False)"
   ]
  },
  {
   "cell_type": "code",
   "execution_count": 29,
   "id": "99d01456",
   "metadata": {},
   "outputs": [
    {
     "data": {
      "text/plain": [
       "1"
      ]
     },
     "execution_count": 29,
     "metadata": {},
     "output_type": "execute_result"
    }
   ],
   "source": [
    "int(True)"
   ]
  },
  {
   "cell_type": "markdown",
   "id": "c237ff02",
   "metadata": {},
   "source": [
    "In Python False is equivalent to 0 and True is equivalent to 1"
   ]
  },
  {
   "cell_type": "code",
   "execution_count": 30,
   "id": "dafe6d7f",
   "metadata": {},
   "outputs": [],
   "source": [
    "w = 77"
   ]
  },
  {
   "cell_type": "code",
   "execution_count": 31,
   "id": "a8a31b51",
   "metadata": {},
   "outputs": [
    {
     "data": {
      "text/plain": [
       "int"
      ]
     },
     "execution_count": 31,
     "metadata": {},
     "output_type": "execute_result"
    }
   ],
   "source": [
    "type(w)"
   ]
  },
  {
   "cell_type": "code",
   "execution_count": 32,
   "id": "7d1aba6a",
   "metadata": {},
   "outputs": [
    {
     "data": {
      "text/plain": [
       "float"
      ]
     },
     "execution_count": 32,
     "metadata": {},
     "output_type": "execute_result"
    }
   ],
   "source": [
    "x = 77.00\n",
    "type(x)"
   ]
  },
  {
   "cell_type": "code",
   "execution_count": 34,
   "id": "2af02ca2",
   "metadata": {},
   "outputs": [],
   "source": [
    "aStr = \"Hello!\""
   ]
  },
  {
   "cell_type": "code",
   "execution_count": 35,
   "id": "256d9fe3",
   "metadata": {},
   "outputs": [
    {
     "data": {
      "text/plain": [
       "'Hello!'"
      ]
     },
     "execution_count": 35,
     "metadata": {},
     "output_type": "execute_result"
    }
   ],
   "source": [
    "aStr"
   ]
  },
  {
   "cell_type": "code",
   "execution_count": 41,
   "id": "f04baa51",
   "metadata": {},
   "outputs": [],
   "source": [
    "f_num = 7.998"
   ]
  },
  {
   "cell_type": "code",
   "execution_count": 42,
   "id": "26326957",
   "metadata": {},
   "outputs": [],
   "source": [
    "f_str = \"7.998\""
   ]
  },
  {
   "cell_type": "code",
   "execution_count": 43,
   "id": "22d68b2e",
   "metadata": {},
   "outputs": [
    {
     "data": {
      "text/plain": [
       "float"
      ]
     },
     "execution_count": 43,
     "metadata": {},
     "output_type": "execute_result"
    }
   ],
   "source": [
    "type(f_num)"
   ]
  },
  {
   "cell_type": "code",
   "execution_count": 44,
   "id": "0aeb01a1",
   "metadata": {},
   "outputs": [
    {
     "data": {
      "text/plain": [
       "str"
      ]
     },
     "execution_count": 44,
     "metadata": {},
     "output_type": "execute_result"
    }
   ],
   "source": [
    "type(f_str)"
   ]
  },
  {
   "cell_type": "code",
   "execution_count": 45,
   "id": "c8b23967",
   "metadata": {},
   "outputs": [
    {
     "data": {
      "text/plain": [
       "'7.9987.998'"
      ]
     },
     "execution_count": 45,
     "metadata": {},
     "output_type": "execute_result"
    }
   ],
   "source": [
    "f_str + f_str"
   ]
  },
  {
   "cell_type": "code",
   "execution_count": 46,
   "id": "3ea0bc68",
   "metadata": {},
   "outputs": [
    {
     "data": {
      "text/plain": [
       "15.996"
      ]
     },
     "execution_count": 46,
     "metadata": {},
     "output_type": "execute_result"
    }
   ],
   "source": [
    "f_num + f_num"
   ]
  },
  {
   "cell_type": "code",
   "execution_count": 47,
   "id": "e6c6a950",
   "metadata": {},
   "outputs": [
    {
     "ename": "TypeError",
     "evalue": "unsupported operand type(s) for +: 'float' and 'str'",
     "output_type": "error",
     "traceback": [
      "\u001b[0;31m---------------------------------------------------------------------------\u001b[0m",
      "\u001b[0;31mTypeError\u001b[0m                                 Traceback (most recent call last)",
      "Cell \u001b[0;32mIn[47], line 1\u001b[0m\n\u001b[0;32m----> 1\u001b[0m f_num \u001b[38;5;241m+\u001b[39m f_str\n",
      "\u001b[0;31mTypeError\u001b[0m: unsupported operand type(s) for +: 'float' and 'str'"
     ]
    }
   ],
   "source": [
    "f_num + f_str"
   ]
  },
  {
   "cell_type": "code",
   "execution_count": 48,
   "id": "7b171b69",
   "metadata": {},
   "outputs": [
    {
     "ename": "TypeError",
     "evalue": "can only concatenate str (not \"float\") to str",
     "output_type": "error",
     "traceback": [
      "\u001b[0;31m---------------------------------------------------------------------------\u001b[0m",
      "\u001b[0;31mTypeError\u001b[0m                                 Traceback (most recent call last)",
      "Cell \u001b[0;32mIn[48], line 1\u001b[0m\n\u001b[0;32m----> 1\u001b[0m f_str \u001b[38;5;241m+\u001b[39m f_num\n",
      "\u001b[0;31mTypeError\u001b[0m: can only concatenate str (not \"float\") to str"
     ]
    }
   ],
   "source": [
    "f_str + f_num"
   ]
  },
  {
   "cell_type": "code",
   "execution_count": 49,
   "id": "81e0c024",
   "metadata": {},
   "outputs": [
    {
     "data": {
      "text/plain": [
       "'H'"
      ]
     },
     "execution_count": 49,
     "metadata": {},
     "output_type": "execute_result"
    }
   ],
   "source": [
    "aStr[0]"
   ]
  },
  {
   "cell_type": "markdown",
   "id": "7bbad817",
   "metadata": {},
   "source": [
    "I believe that multi-element strings are when a string contains different object types."
   ]
  },
  {
   "cell_type": "code",
   "execution_count": 50,
   "id": "1d349999",
   "metadata": {},
   "outputs": [],
   "source": [
    "myTup = (9, 8, 7)"
   ]
  },
  {
   "cell_type": "code",
   "execution_count": 51,
   "id": "5f39a678",
   "metadata": {},
   "outputs": [
    {
     "data": {
      "text/plain": [
       "(9, 8, 7)"
      ]
     },
     "execution_count": 51,
     "metadata": {},
     "output_type": "execute_result"
    }
   ],
   "source": [
    "myTup"
   ]
  },
  {
   "cell_type": "code",
   "execution_count": 52,
   "id": "cc8847e0",
   "metadata": {},
   "outputs": [
    {
     "data": {
      "text/plain": [
       "9"
      ]
     },
     "execution_count": 52,
     "metadata": {},
     "output_type": "execute_result"
    }
   ],
   "source": [
    "myTup[0]"
   ]
  },
  {
   "cell_type": "code",
   "execution_count": 53,
   "id": "21d4052d",
   "metadata": {},
   "outputs": [
    {
     "data": {
      "text/plain": [
       "(9, 8)"
      ]
     },
     "execution_count": 53,
     "metadata": {},
     "output_type": "execute_result"
    }
   ],
   "source": [
    "myTup[0:2]"
   ]
  },
  {
   "cell_type": "code",
   "execution_count": 57,
   "id": "5ada40e1",
   "metadata": {},
   "outputs": [
    {
     "data": {
      "text/plain": [
       "(3, '4', 'five', True)"
      ]
     },
     "execution_count": 57,
     "metadata": {},
     "output_type": "execute_result"
    }
   ],
   "source": [
    "myTup = (3, '4', 'five', True)\n",
    "myTup"
   ]
  },
  {
   "cell_type": "code",
   "execution_count": 58,
   "id": "72ecaf2a",
   "metadata": {},
   "outputs": [
    {
     "ename": "NameError",
     "evalue": "name 'five' is not defined",
     "output_type": "error",
     "traceback": [
      "\u001b[0;31m---------------------------------------------------------------------------\u001b[0m",
      "\u001b[0;31mNameError\u001b[0m                                 Traceback (most recent call last)",
      "Cell \u001b[0;32mIn[58], line 1\u001b[0m\n\u001b[0;32m----> 1\u001b[0m myTup[\u001b[38;5;241m2\u001b[39m] \u001b[38;5;241m=\u001b[39m five\n",
      "\u001b[0;31mNameError\u001b[0m: name 'five' is not defined"
     ]
    }
   ],
   "source": [
    "myTup[2] = five "
   ]
  },
  {
   "cell_type": "code",
   "execution_count": 59,
   "id": "11d1e558",
   "metadata": {},
   "outputs": [],
   "source": [
    "myList = [True, 'Hey', 7, 4.5]"
   ]
  },
  {
   "cell_type": "code",
   "execution_count": 61,
   "id": "c8e8ba3f",
   "metadata": {},
   "outputs": [],
   "source": [
    "myList[1] = \"Thank\""
   ]
  },
  {
   "cell_type": "code",
   "execution_count": 62,
   "id": "525081e5",
   "metadata": {},
   "outputs": [
    {
     "data": {
      "text/plain": [
       "[True, 'Thank', 7, 4.5]"
      ]
     },
     "execution_count": 62,
     "metadata": {},
     "output_type": "execute_result"
    }
   ],
   "source": [
    "myList"
   ]
  },
  {
   "cell_type": "code",
   "execution_count": 64,
   "id": "128e0183",
   "metadata": {},
   "outputs": [
    {
     "data": {
      "text/plain": [
       "{'name': 'Mary', 'age': 21, 'school': 'UT_Austin', 'gpa': 3.89}"
      ]
     },
     "execution_count": 64,
     "metadata": {},
     "output_type": "execute_result"
    }
   ],
   "source": [
    "myDict = {'name': 'Mary',\n",
    "         'age': 21, \n",
    "         'school': 'UT_Austin',\n",
    "         'gpa': 3.89}\n",
    "myDict"
   ]
  },
  {
   "cell_type": "code",
   "execution_count": 65,
   "id": "2124a473",
   "metadata": {},
   "outputs": [
    {
     "data": {
      "text/plain": [
       "'Mary'"
      ]
     },
     "execution_count": 65,
     "metadata": {},
     "output_type": "execute_result"
    }
   ],
   "source": [
    "myDict['name']"
   ]
  },
  {
   "cell_type": "code",
   "execution_count": 66,
   "id": "1ef57341",
   "metadata": {},
   "outputs": [],
   "source": [
    "expDict = {'data': '10July2023',\n",
    "          'time': '1620CST',\n",
    "          'experimenter': 'FGauss',\n",
    "          'data': [245.3, 232.9 , 238.6, 222.2, 250.1]}"
   ]
  },
  {
   "cell_type": "code",
   "execution_count": 67,
   "id": "5b4e9b54",
   "metadata": {},
   "outputs": [],
   "source": [
    "just_a_list = expDict['data']"
   ]
  },
  {
   "cell_type": "code",
   "execution_count": 68,
   "id": "b62b487f",
   "metadata": {},
   "outputs": [
    {
     "data": {
      "text/plain": [
       "[245.3, 232.9, 238.6, 222.2, 250.1]"
      ]
     },
     "execution_count": 68,
     "metadata": {},
     "output_type": "execute_result"
    }
   ],
   "source": [
    "just_a_list"
   ]
  },
  {
   "cell_type": "code",
   "execution_count": 69,
   "id": "b1e493a0",
   "metadata": {},
   "outputs": [
    {
     "data": {
      "text/plain": [
       "'You cannot change me!'"
      ]
     },
     "execution_count": 69,
     "metadata": {},
     "output_type": "execute_result"
    }
   ],
   "source": [
    "immStr = 'You cannot change me!'\n",
    "immStr"
   ]
  },
  {
   "cell_type": "code",
   "execution_count": 70,
   "id": "441f5063",
   "metadata": {},
   "outputs": [
    {
     "ename": "NameError",
     "evalue": "name 'Yoo' is not defined",
     "output_type": "error",
     "traceback": [
      "\u001b[0;31m---------------------------------------------------------------------------\u001b[0m",
      "\u001b[0;31mNameError\u001b[0m                                 Traceback (most recent call last)",
      "Cell \u001b[0;32mIn[70], line 1\u001b[0m\n\u001b[0;32m----> 1\u001b[0m immStr[\u001b[38;5;241m0\u001b[39m] \u001b[38;5;241m=\u001b[39m Yoo\n",
      "\u001b[0;31mNameError\u001b[0m: name 'Yoo' is not defined"
     ]
    }
   ],
   "source": [
    "immStr[0] = Yoo"
   ]
  },
  {
   "cell_type": "code",
   "execution_count": 71,
   "id": "ca41a7ed",
   "metadata": {},
   "outputs": [
    {
     "ename": "NameError",
     "evalue": "name 'Yoo' is not defined",
     "output_type": "error",
     "traceback": [
      "\u001b[0;31m---------------------------------------------------------------------------\u001b[0m",
      "\u001b[0;31mNameError\u001b[0m                                 Traceback (most recent call last)",
      "Cell \u001b[0;32mIn[71], line 1\u001b[0m\n\u001b[0;32m----> 1\u001b[0m immStr[\u001b[38;5;241m2\u001b[39m] \u001b[38;5;241m=\u001b[39m Yoo\n",
      "\u001b[0;31mNameError\u001b[0m: name 'Yoo' is not defined"
     ]
    }
   ],
   "source": [
    "immStr[2] = Yoo"
   ]
  },
  {
   "cell_type": "code",
   "execution_count": 72,
   "id": "b60cd933",
   "metadata": {},
   "outputs": [],
   "source": [
    "immStrCopy = immStr"
   ]
  },
  {
   "cell_type": "code",
   "execution_count": 73,
   "id": "a5e12484",
   "metadata": {},
   "outputs": [],
   "source": [
    "immStr = 'You cannot change me either!'"
   ]
  },
  {
   "cell_type": "code",
   "execution_count": 74,
   "id": "3f746c3d",
   "metadata": {},
   "outputs": [
    {
     "data": {
      "text/plain": [
       "4583347728"
      ]
     },
     "execution_count": 74,
     "metadata": {},
     "output_type": "execute_result"
    }
   ],
   "source": [
    "id(immStrCopy)"
   ]
  },
  {
   "cell_type": "code",
   "execution_count": 75,
   "id": "6ed96592",
   "metadata": {},
   "outputs": [
    {
     "data": {
      "text/plain": [
       "4583873296"
      ]
     },
     "execution_count": 75,
     "metadata": {},
     "output_type": "execute_result"
    }
   ],
   "source": [
    "id(immStr)"
   ]
  },
  {
   "cell_type": "code",
   "execution_count": 76,
   "id": "51ca58a0",
   "metadata": {},
   "outputs": [
    {
     "name": "stdout",
     "output_type": "stream",
     "text": [
      "You cannot change me!\n"
     ]
    }
   ],
   "source": [
    "print(immStrCopy)"
   ]
  },
  {
   "cell_type": "code",
   "execution_count": 77,
   "id": "7adc3e0a",
   "metadata": {},
   "outputs": [
    {
     "name": "stdout",
     "output_type": "stream",
     "text": [
      "You cannot change me either!\n"
     ]
    }
   ],
   "source": [
    "print(immStr)"
   ]
  },
  {
   "cell_type": "code",
   "execution_count": 78,
   "id": "3f3aec41",
   "metadata": {},
   "outputs": [],
   "source": [
    "mList = ['you', 'can', 'change', 'me']\n",
    "mListCopy = mList"
   ]
  },
  {
   "cell_type": "code",
   "execution_count": 79,
   "id": "3fba863a",
   "metadata": {},
   "outputs": [],
   "source": [
    "mList[0] = 'anyone'"
   ]
  },
  {
   "cell_type": "code",
   "execution_count": 80,
   "id": "a6cf9bf9",
   "metadata": {},
   "outputs": [
    {
     "name": "stdout",
     "output_type": "stream",
     "text": [
      "['anyone', 'can', 'change', 'me']\n"
     ]
    }
   ],
   "source": [
    "print(mListCopy)"
   ]
  },
  {
   "cell_type": "code",
   "execution_count": 81,
   "id": "44f30dc1",
   "metadata": {},
   "outputs": [
    {
     "data": {
      "text/plain": [
       "4584002880"
      ]
     },
     "execution_count": 81,
     "metadata": {},
     "output_type": "execute_result"
    }
   ],
   "source": [
    "id(mListCopy)\n",
    "id(mList)"
   ]
  },
  {
   "cell_type": "code",
   "execution_count": 82,
   "id": "a19ca195",
   "metadata": {},
   "outputs": [
    {
     "data": {
      "text/plain": [
       "4584002880"
      ]
     },
     "execution_count": 82,
     "metadata": {},
     "output_type": "execute_result"
    }
   ],
   "source": [
    "id(mList)"
   ]
  },
  {
   "cell_type": "markdown",
   "id": "486dc605",
   "metadata": {},
   "source": [
    "id(mList)"
   ]
  },
  {
   "cell_type": "code",
   "execution_count": 1,
   "id": "ca2a6e5d",
   "metadata": {},
   "outputs": [],
   "source": [
    "yourNameVar = \"wala\""
   ]
  },
  {
   "cell_type": "code",
   "execution_count": 2,
   "id": "141b3e40",
   "metadata": {},
   "outputs": [
    {
     "data": {
      "text/plain": [
       "['__add__',\n",
       " '__class__',\n",
       " '__contains__',\n",
       " '__delattr__',\n",
       " '__dir__',\n",
       " '__doc__',\n",
       " '__eq__',\n",
       " '__format__',\n",
       " '__ge__',\n",
       " '__getattribute__',\n",
       " '__getitem__',\n",
       " '__getnewargs__',\n",
       " '__getstate__',\n",
       " '__gt__',\n",
       " '__hash__',\n",
       " '__init__',\n",
       " '__init_subclass__',\n",
       " '__iter__',\n",
       " '__le__',\n",
       " '__len__',\n",
       " '__lt__',\n",
       " '__mod__',\n",
       " '__mul__',\n",
       " '__ne__',\n",
       " '__new__',\n",
       " '__reduce__',\n",
       " '__reduce_ex__',\n",
       " '__repr__',\n",
       " '__rmod__',\n",
       " '__rmul__',\n",
       " '__setattr__',\n",
       " '__sizeof__',\n",
       " '__str__',\n",
       " '__subclasshook__',\n",
       " 'capitalize',\n",
       " 'casefold',\n",
       " 'center',\n",
       " 'count',\n",
       " 'encode',\n",
       " 'endswith',\n",
       " 'expandtabs',\n",
       " 'find',\n",
       " 'format',\n",
       " 'format_map',\n",
       " 'index',\n",
       " 'isalnum',\n",
       " 'isalpha',\n",
       " 'isascii',\n",
       " 'isdecimal',\n",
       " 'isdigit',\n",
       " 'isidentifier',\n",
       " 'islower',\n",
       " 'isnumeric',\n",
       " 'isprintable',\n",
       " 'isspace',\n",
       " 'istitle',\n",
       " 'isupper',\n",
       " 'join',\n",
       " 'ljust',\n",
       " 'lower',\n",
       " 'lstrip',\n",
       " 'maketrans',\n",
       " 'partition',\n",
       " 'removeprefix',\n",
       " 'removesuffix',\n",
       " 'replace',\n",
       " 'rfind',\n",
       " 'rindex',\n",
       " 'rjust',\n",
       " 'rpartition',\n",
       " 'rsplit',\n",
       " 'rstrip',\n",
       " 'split',\n",
       " 'splitlines',\n",
       " 'startswith',\n",
       " 'strip',\n",
       " 'swapcase',\n",
       " 'title',\n",
       " 'translate',\n",
       " 'upper',\n",
       " 'zfill']"
      ]
     },
     "execution_count": 2,
     "metadata": {},
     "output_type": "execute_result"
    }
   ],
   "source": [
    "dir(yourNameVar)"
   ]
  },
  {
   "cell_type": "code",
   "execution_count": 5,
   "id": "18e213e6",
   "metadata": {},
   "outputs": [],
   "source": [
    "capname = yourNameVar.capitalize()"
   ]
  },
  {
   "cell_type": "code",
   "execution_count": 6,
   "id": "c1c526d9",
   "metadata": {},
   "outputs": [
    {
     "name": "stdout",
     "output_type": "stream",
     "text": [
      "Wala\n"
     ]
    }
   ],
   "source": [
    "print(capname)"
   ]
  },
  {
   "cell_type": "code",
   "execution_count": 7,
   "id": "8141d98d",
   "metadata": {},
   "outputs": [
    {
     "name": "stdout",
     "output_type": "stream",
     "text": [
      "capname\t yourNameVar\t \n"
     ]
    }
   ],
   "source": [
    "who"
   ]
  },
  {
   "cell_type": "code",
   "execution_count": 8,
   "id": "8d300a10",
   "metadata": {},
   "outputs": [
    {
     "name": "stdout",
     "output_type": "stream",
     "text": [
      "capname\t yourNameVar\t \n"
     ]
    }
   ],
   "source": [
    "%who"
   ]
  },
  {
   "cell_type": "markdown",
   "id": "4d596720",
   "metadata": {},
   "source": [
    "'who' displays a list of the variables in the name space"
   ]
  },
  {
   "cell_type": "code",
   "execution_count": 9,
   "id": "f7498efa",
   "metadata": {},
   "outputs": [
    {
     "name": "stdout",
     "output_type": "stream",
     "text": [
      "Variable      Type    Data/Info\n",
      "-------------------------------\n",
      "capname       str     Wala\n",
      "yourNameVar   str     wala\n"
     ]
    }
   ],
   "source": [
    "whos"
   ]
  },
  {
   "cell_type": "markdown",
   "id": "f3a25ac6",
   "metadata": {},
   "source": [
    "'whos' provides more details about the name space, it contains details about the variable's, their type in jupyter notebook."
   ]
  },
  {
   "cell_type": "code",
   "execution_count": null,
   "id": "6899346d",
   "metadata": {},
   "outputs": [],
   "source": []
  }
 ],
 "metadata": {
  "kernelspec": {
   "display_name": "Python 3 (ipykernel)",
   "language": "python",
   "name": "python3"
  },
  "language_info": {
   "codemirror_mode": {
    "name": "ipython",
    "version": 3
   },
   "file_extension": ".py",
   "mimetype": "text/x-python",
   "name": "python",
   "nbconvert_exporter": "python",
   "pygments_lexer": "ipython3",
   "version": "3.11.5"
  }
 },
 "nbformat": 4,
 "nbformat_minor": 5
}
