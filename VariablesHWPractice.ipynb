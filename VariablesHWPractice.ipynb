{
 "cells": [
  {
   "cell_type": "code",
   "execution_count": 1,
   "id": "b3b257c7",
   "metadata": {},
   "outputs": [],
   "source": [
    "theAnswer = 42"
   ]
  },
  {
   "cell_type": "code",
   "execution_count": 2,
   "id": "f9af3609",
   "metadata": {},
   "outputs": [],
   "source": [
    "anotherName = 42"
   ]
  },
  {
   "cell_type": "code",
   "execution_count": 3,
   "id": "6258623c",
   "metadata": {},
   "outputs": [
    {
     "data": {
      "text/plain": [
       "4385112696"
      ]
     },
     "execution_count": 3,
     "metadata": {},
     "output_type": "execute_result"
    }
   ],
   "source": [
    "id(theAnswer)"
   ]
  },
  {
   "cell_type": "code",
   "execution_count": 4,
   "id": "acd66d57",
   "metadata": {},
   "outputs": [
    {
     "data": {
      "text/plain": [
       "4385112696"
      ]
     },
     "execution_count": 4,
     "metadata": {},
     "output_type": "execute_result"
    }
   ],
   "source": [
    "id(anotherName)"
   ]
  },
  {
   "cell_type": "code",
   "execution_count": 5,
   "id": "06b23ef1",
   "metadata": {},
   "outputs": [],
   "source": [
    "theAnswer = 7"
   ]
  },
  {
   "cell_type": "code",
   "execution_count": 6,
   "id": "bd84340c",
   "metadata": {},
   "outputs": [],
   "source": [
    "anotherName = 7"
   ]
  },
  {
   "cell_type": "code",
   "execution_count": 7,
   "id": "29ccd5a4",
   "metadata": {},
   "outputs": [
    {
     "data": {
      "text/plain": [
       "4385111576"
      ]
     },
     "execution_count": 7,
     "metadata": {},
     "output_type": "execute_result"
    }
   ],
   "source": [
    "id(theAnswer)"
   ]
  },
  {
   "cell_type": "code",
   "execution_count": 8,
   "id": "f7a2266c",
   "metadata": {},
   "outputs": [
    {
     "data": {
      "text/plain": [
       "4385111576"
      ]
     },
     "execution_count": 8,
     "metadata": {},
     "output_type": "execute_result"
    }
   ],
   "source": [
    "id(anotherName)"
   ]
  },
  {
   "cell_type": "code",
   "execution_count": 9,
   "id": "df4ead90",
   "metadata": {
    "scrolled": true
   },
   "outputs": [
    {
     "name": "stdout",
     "output_type": "stream",
     "text": [
      "Variable      Type    Data/Info\n",
      "-------------------------------\n",
      "anotherName   int     7\n",
      "theAnswer     int     7\n"
     ]
    }
   ],
   "source": [
    "whos"
   ]
  },
  {
   "cell_type": "code",
   "execution_count": 10,
   "id": "9845aaaa",
   "metadata": {},
   "outputs": [
    {
     "data": {
      "text/plain": [
       "4385112696"
      ]
     },
     "execution_count": 10,
     "metadata": {},
     "output_type": "execute_result"
    }
   ],
   "source": [
    "originalOne = 42\n",
    "id(originalOne)"
   ]
  },
  {
   "cell_type": "markdown",
   "id": "a131bc1e",
   "metadata": {},
   "source": [
    "*The id's for the original one and the new one made are the same. This shows that integers are immutable–they cannot be changed after they are made.*"
   ]
  },
  {
   "cell_type": "code",
   "execution_count": 11,
   "id": "f6dc3bd6",
   "metadata": {},
   "outputs": [],
   "source": [
    "booleant = True "
   ]
  },
  {
   "cell_type": "code",
   "execution_count": 12,
   "id": "66fe4419",
   "metadata": {},
   "outputs": [],
   "source": [
    "booleanf = False"
   ]
  },
  {
   "cell_type": "code",
   "execution_count": 13,
   "id": "aee3781e",
   "metadata": {},
   "outputs": [],
   "source": [
    "stringt = str(booleant)"
   ]
  },
  {
   "cell_type": "code",
   "execution_count": 14,
   "id": "93365ab3",
   "metadata": {},
   "outputs": [],
   "source": [
    "stringf = str(booleanf)"
   ]
  },
  {
   "cell_type": "code",
   "execution_count": 15,
   "id": "6ae7e54b",
   "metadata": {},
   "outputs": [
    {
     "name": "stdout",
     "output_type": "stream",
     "text": [
      "True\n"
     ]
    }
   ],
   "source": [
    "print(stringt)"
   ]
  },
  {
   "cell_type": "code",
   "execution_count": 16,
   "id": "fb802a06",
   "metadata": {},
   "outputs": [
    {
     "name": "stdout",
     "output_type": "stream",
     "text": [
      "False\n"
     ]
    }
   ],
   "source": [
    "print(stringf)"
   ]
  },
  {
   "cell_type": "code",
   "execution_count": 17,
   "id": "8010f33d",
   "metadata": {},
   "outputs": [],
   "source": [
    "testbool = bool(\"Hello there\")"
   ]
  },
  {
   "cell_type": "code",
   "execution_count": 18,
   "id": "b5cf31f4",
   "metadata": {},
   "outputs": [],
   "source": [
    "test = (\"Hello There\")"
   ]
  },
  {
   "cell_type": "code",
   "execution_count": 19,
   "id": "c30d5459",
   "metadata": {},
   "outputs": [
    {
     "name": "stdout",
     "output_type": "stream",
     "text": [
      "Hello There\n"
     ]
    }
   ],
   "source": [
    "print(test)"
   ]
  },
  {
   "cell_type": "code",
   "execution_count": 21,
   "id": "a9587797",
   "metadata": {},
   "outputs": [],
   "source": [
    "test = bool(\"Hello there\")"
   ]
  },
  {
   "cell_type": "code",
   "execution_count": 22,
   "id": "e9140971",
   "metadata": {},
   "outputs": [
    {
     "name": "stdout",
     "output_type": "stream",
     "text": [
      "True\n"
     ]
    }
   ],
   "source": [
    "print(test)"
   ]
  },
  {
   "cell_type": "code",
   "execution_count": 23,
   "id": "c64b7170",
   "metadata": {},
   "outputs": [
    {
     "name": "stdout",
     "output_type": "stream",
     "text": [
      "True\n"
     ]
    }
   ],
   "source": [
    "print(testbool)"
   ]
  },
  {
   "cell_type": "code",
   "execution_count": 24,
   "id": "c3b80331",
   "metadata": {},
   "outputs": [],
   "source": [
    "test2 = (\"42 > 5\")"
   ]
  },
  {
   "cell_type": "code",
   "execution_count": 25,
   "id": "8b2e8b5b",
   "metadata": {},
   "outputs": [],
   "source": [
    "test2 = bool(\"42 > 5\")"
   ]
  },
  {
   "cell_type": "code",
   "execution_count": 26,
   "id": "8bd4e5e3",
   "metadata": {},
   "outputs": [
    {
     "name": "stdout",
     "output_type": "stream",
     "text": [
      "True\n"
     ]
    }
   ],
   "source": [
    "print(test2)"
   ]
  },
  {
   "cell_type": "code",
   "execution_count": 30,
   "id": "882cbf7d",
   "metadata": {},
   "outputs": [],
   "source": [
    "test3 = (\"     \")"
   ]
  },
  {
   "cell_type": "code",
   "execution_count": 31,
   "id": "ef3ccc50",
   "metadata": {},
   "outputs": [],
   "source": [
    "test3 = bool(\"    \")"
   ]
  },
  {
   "cell_type": "code",
   "execution_count": 32,
   "id": "5d931098",
   "metadata": {},
   "outputs": [
    {
     "name": "stdout",
     "output_type": "stream",
     "text": [
      "True\n"
     ]
    }
   ],
   "source": [
    "print(test3)"
   ]
  },
  {
   "cell_type": "code",
   "execution_count": 33,
   "id": "ea18d3bc",
   "metadata": {},
   "outputs": [],
   "source": [
    "test4 = bool(\" \")"
   ]
  },
  {
   "cell_type": "code",
   "execution_count": 34,
   "id": "12164fcc",
   "metadata": {},
   "outputs": [
    {
     "name": "stdout",
     "output_type": "stream",
     "text": [
      "True\n"
     ]
    }
   ],
   "source": [
    "print(test4)"
   ]
  },
  {
   "cell_type": "code",
   "execution_count": 35,
   "id": "58055b38",
   "metadata": {},
   "outputs": [],
   "source": [
    "s = \"true\""
   ]
  },
  {
   "cell_type": "code",
   "execution_count": 36,
   "id": "c5a4536e",
   "metadata": {},
   "outputs": [
    {
     "data": {
      "text/plain": [
       "str"
      ]
     },
     "execution_count": 36,
     "metadata": {},
     "output_type": "execute_result"
    }
   ],
   "source": [
    "type(s)"
   ]
  },
  {
   "cell_type": "code",
   "execution_count": 37,
   "id": "62e52abf",
   "metadata": {},
   "outputs": [
    {
     "data": {
      "text/plain": [
       "True"
      ]
     },
     "execution_count": 37,
     "metadata": {},
     "output_type": "execute_result"
    }
   ],
   "source": [
    "bool(s)"
   ]
  },
  {
   "cell_type": "code",
   "execution_count": 39,
   "id": "b894ab8f",
   "metadata": {},
   "outputs": [],
   "source": [
    "m = \"ghgjufhkdfjhjhgdfi\""
   ]
  },
  {
   "cell_type": "code",
   "execution_count": 40,
   "id": "72df06ac",
   "metadata": {},
   "outputs": [
    {
     "data": {
      "text/plain": [
       "True"
      ]
     },
     "execution_count": 40,
     "metadata": {},
     "output_type": "execute_result"
    }
   ],
   "source": [
    "bool(m)"
   ]
  },
  {
   "cell_type": "code",
   "execution_count": 41,
   "id": "75e230a5",
   "metadata": {},
   "outputs": [],
   "source": [
    "x = \"Hello World\""
   ]
  },
  {
   "cell_type": "code",
   "execution_count": 42,
   "id": "8ca0fa1c",
   "metadata": {},
   "outputs": [
    {
     "data": {
      "text/plain": [
       "True"
      ]
     },
     "execution_count": 42,
     "metadata": {},
     "output_type": "execute_result"
    }
   ],
   "source": [
    "bool(x)"
   ]
  },
  {
   "cell_type": "code",
   "execution_count": 1,
   "id": "789f8736",
   "metadata": {},
   "outputs": [],
   "source": [
    "w = \"\""
   ]
  },
  {
   "cell_type": "code",
   "execution_count": 2,
   "id": "47079e13",
   "metadata": {},
   "outputs": [
    {
     "data": {
      "text/plain": [
       "False"
      ]
     },
     "execution_count": 2,
     "metadata": {},
     "output_type": "execute_result"
    }
   ],
   "source": [
    "bool(w)"
   ]
  },
  {
   "cell_type": "markdown",
   "id": "814752d3",
   "metadata": {},
   "source": [
    "*Essentially everything will be True except blank strings they will be False.*"
   ]
  },
  {
   "cell_type": "code",
   "execution_count": 3,
   "id": "1e1c0be5",
   "metadata": {},
   "outputs": [],
   "source": [
    "varBoolean = True"
   ]
  },
  {
   "cell_type": "code",
   "execution_count": 4,
   "id": "4243db3b",
   "metadata": {},
   "outputs": [],
   "source": [
    "varInt = 77"
   ]
  },
  {
   "cell_type": "code",
   "execution_count": 5,
   "id": "40c95731",
   "metadata": {},
   "outputs": [],
   "source": [
    "varFlo = 5.236"
   ]
  },
  {
   "cell_type": "code",
   "execution_count": 6,
   "id": "0ffdcec9",
   "metadata": {},
   "outputs": [
    {
     "data": {
      "text/plain": [
       "78"
      ]
     },
     "execution_count": 6,
     "metadata": {},
     "output_type": "execute_result"
    }
   ],
   "source": [
    "varBoolean + varInt"
   ]
  },
  {
   "cell_type": "code",
   "execution_count": 7,
   "id": "76d34c60",
   "metadata": {},
   "outputs": [
    {
     "data": {
      "text/plain": [
       "6.236"
      ]
     },
     "execution_count": 7,
     "metadata": {},
     "output_type": "execute_result"
    }
   ],
   "source": [
    "varBoolean + varFlo"
   ]
  },
  {
   "cell_type": "code",
   "execution_count": 8,
   "id": "093c109d",
   "metadata": {},
   "outputs": [
    {
     "data": {
      "text/plain": [
       "82.236"
      ]
     },
     "execution_count": 8,
     "metadata": {},
     "output_type": "execute_result"
    }
   ],
   "source": [
    "varFlo + varInt"
   ]
  },
  {
   "cell_type": "markdown",
   "id": "a5738562",
   "metadata": {},
   "source": [
    "*If you add an integer and a float the results will be a float. If you add a boolean to a float or integer, False would be considered as 0 and True will be considered as 1.*"
   ]
  },
  {
   "cell_type": "code",
   "execution_count": null,
   "id": "2f2aa63b",
   "metadata": {},
   "outputs": [],
   "source": []
  }
 ],
 "metadata": {
  "kernelspec": {
   "display_name": "Python 3 (ipykernel)",
   "language": "python",
   "name": "python3"
  },
  "language_info": {
   "codemirror_mode": {
    "name": "ipython",
    "version": 3
   },
   "file_extension": ".py",
   "mimetype": "text/x-python",
   "name": "python",
   "nbconvert_exporter": "python",
   "pygments_lexer": "ipython3",
   "version": "3.11.5"
  }
 },
 "nbformat": 4,
 "nbformat_minor": 5
}
