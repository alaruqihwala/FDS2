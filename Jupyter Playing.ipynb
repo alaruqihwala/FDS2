{
 "cells": [
  {
   "cell_type": "code",
   "execution_count": 1,
   "id": "3f827558",
   "metadata": {},
   "outputs": [
    {
     "name": "stdout",
     "output_type": "stream",
     "text": [
      "Answer is 42\n"
     ]
    }
   ],
   "source": [
    "print(\"Answer is 42\")"
   ]
  },
  {
   "cell_type": "markdown",
   "id": "2291cd6e",
   "metadata": {},
   "source": [
    "# Header \n",
    "\n",
    "**Writing something in bold**\n",
    "\n",
    "## sub header \n",
    "\n",
    "* a \n",
    "* list\n",
    "* wow"
   ]
  },
  {
   "cell_type": "code",
   "execution_count": null,
   "id": "3f0acf12",
   "metadata": {},
   "outputs": [],
   "source": []
  },
  {
   "cell_type": "markdown",
   "id": "f200e2db",
   "metadata": {},
   "source": [
    "*Making some edits in markdown*"
   ]
  },
  {
   "cell_type": "code",
   "execution_count": null,
   "id": "05462d2d",
   "metadata": {},
   "outputs": [],
   "source": []
  },
  {
   "cell_type": "code",
   "execution_count": null,
   "id": "8058795e",
   "metadata": {},
   "outputs": [],
   "source": []
  },
  {
   "cell_type": "code",
   "execution_count": null,
   "id": "1c6742c5",
   "metadata": {},
   "outputs": [],
   "source": []
  },
  {
   "cell_type": "code",
   "execution_count": null,
   "id": "dbd0ec36",
   "metadata": {},
   "outputs": [],
   "source": []
  },
  {
   "cell_type": "code",
   "execution_count": null,
   "id": "0b340e7c",
   "metadata": {},
   "outputs": [],
   "source": []
  }
 ],
 "metadata": {
  "kernelspec": {
   "display_name": "Python 3 (ipykernel)",
   "language": "python",
   "name": "python3"
  },
  "language_info": {
   "codemirror_mode": {
    "name": "ipython",
    "version": 3
   },
   "file_extension": ".py",
   "mimetype": "text/x-python",
   "name": "python",
   "nbconvert_exporter": "python",
   "pygments_lexer": "ipython3",
   "version": "3.11.5"
  }
 },
 "nbformat": 4,
 "nbformat_minor": 5
}
